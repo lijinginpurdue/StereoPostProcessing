{
 "cells": [
  {
   "cell_type": "code",
   "execution_count": 181,
   "metadata": {},
   "outputs": [
    {
     "data": {
      "text/plain": [
       "'\\nSave a Numpy array to a PFM file.\\n'"
      ]
     },
     "execution_count": 181,
     "metadata": {},
     "output_type": "execute_result"
    }
   ],
   "source": [
    "import numpy as np\n",
    "import re\n",
    "import sys\n",
    "import matplotlib.pyplot as plt\n",
    "#import cv2\n",
    "from numpy import zeros, newaxis,inf\n",
    "import glob\n",
    "import skimage\n",
    "import skimage.io\n",
    "\n",
    "def readPFM(file):### for ground truth\n",
    "    file = open(file, 'rb')\n",
    "    color = None\n",
    "    width = None\n",
    "    height = None\n",
    "    scale = None\n",
    "    endian = None\n",
    "\n",
    "    #header = file.readline().rstrip()\n",
    "    header = file.readline().decode('utf-8').rstrip()\n",
    "    if header == 'PF':\n",
    "        color = True    \n",
    "    elif header == 'Pf':\n",
    "        color = False\n",
    "    else:\n",
    "        raise Exception('Not a PFM file.')\n",
    "\n",
    "    #dim_match = re.match(r'^(\\d+)\\s(\\d+)\\s$', file.readline())\n",
    "    dim_match = re.match(r'^(\\d+)\\s(\\d+)\\s$', file.readline().decode('utf-8'))\n",
    "    if dim_match:\n",
    "        width, height = map(int, dim_match.groups())\n",
    "    else:\n",
    "        raise Exception('Malformed PFM header.')\n",
    "\n",
    "    #scale = float(file.readline().rstrip())\n",
    "    scale = float(file.readline().decode('utf-8').rstrip())\n",
    "    if scale < 0: # little-endian\n",
    "        endian = '<'\n",
    "        scale = -scale\n",
    "    else:\n",
    "        endian = '>' # big-endian\n",
    "\n",
    "    data = np.fromfile(file, endian + 'f')\n",
    "    shape = (height, width, 3) if color else (height, width)\n",
    "    \n",
    "    data = np.reshape(data, shape)\n",
    "    data = np.flipud(data) # flip imageß\n",
    "    return data, scale\n",
    "\n",
    "'''\n",
    "Save a Numpy array to a PFM file.\n",
    "'''\n"
   ]
  },
  {
   "cell_type": "code",
   "execution_count": 182,
   "metadata": {},
   "outputs": [],
   "source": [
    "def GetBilinearPixel(imArr, posR, posC):\n",
    "    out = []\n",
    "\n",
    "    #Get integer and fractional parts of numbers\n",
    "    modCi = int(posC)\n",
    "    modCf = posC - modCi\n",
    "    modCiPlusOneLim = min(modCi+1,imArr.shape[1]-1)\n",
    "\n",
    "    #Get pixels in two side\n",
    "    for chan in range(imArr.shape[2]):\n",
    "        bl = imArr[posR, modCi, chan]\n",
    "        br = imArr[posR, modCiPlusOneLim, chan]\n",
    "        #Calculate interpolation\n",
    "        b = modCf * br + (1. - modCf) * bl\n",
    "        #out.append(int(b+0.5))\n",
    "        out.append(b)  \n",
    "    return out \n",
    "\n",
    "def getWarpedImageWithBilinear(right,disp):\n",
    "    disp[disp==inf]=0\n",
    "    leftHat = np.zeros_like(right)\n",
    "    for r in range(leftHat.shape[0]):\n",
    "        for c in range(leftHat.shape[1]):         \n",
    "            orir = r  #Find position in original image\n",
    "            oric = max(c - disp[r,c],0)\n",
    "            leftHat[r, c] = GetBilinearPixel(right, orir, oric)\n",
    "    return leftHat\n",
    "\n",
    "def getErrorImage(leftHat,left):\n",
    "    return abs(leftHat-left)"
   ]
  },
  {
   "cell_type": "code",
   "execution_count": 183,
   "metadata": {},
   "outputs": [],
   "source": [
    "path_data = '/home/tiuser/Documents/Data_summer_Jing/KITTI_2015/'\n",
    "\n",
    "training_data_folder_path_list = glob.glob(path_data+'left/*.png')\n",
    "training_data_folder_path_list.sort()\n",
    "\n",
    "training_data_folder_path_list_r = glob.glob(path_data+'right/*.png')\n",
    "training_data_folder_path_list_r.sort()\n",
    "\n",
    "disp_path_list = glob.glob(path_data+'sdeOut_png/*.png')\n",
    "disp_path_list.sort()\n",
    "\n",
    "groundtruth_folder_path_list = glob.glob(path_data+'gt_png/*.png')\n",
    "groundtruth_folder_path_list.sort()"
   ]
  },
  {
   "cell_type": "code",
   "execution_count": 246,
   "metadata": {},
   "outputs": [
    {
     "name": "stdout",
     "output_type": "stream",
     "text": [
      "0\n",
      "1\n",
      "2\n",
      "3\n",
      "4\n",
      "5\n",
      "6\n",
      "7\n",
      "8\n",
      "9\n",
      "10\n",
      "11\n",
      "12\n",
      "13\n",
      "14\n",
      "15\n",
      "16\n",
      "17\n",
      "18\n",
      "19\n",
      "20\n",
      "21\n",
      "22\n",
      "23\n",
      "24\n",
      "25\n",
      "26\n",
      "27\n",
      "28\n",
      "29\n",
      "30\n",
      "31\n",
      "32\n",
      "33\n",
      "34\n",
      "35\n",
      "36\n",
      "37\n",
      "38\n",
      "39\n",
      "40\n",
      "41\n",
      "42\n",
      "43\n",
      "44\n",
      "45\n",
      "46\n",
      "47\n",
      "48\n",
      "49\n",
      "50\n",
      "51\n",
      "52\n",
      "53\n",
      "54\n",
      "55\n",
      "56\n",
      "57\n",
      "58\n",
      "59\n",
      "60\n",
      "61\n",
      "62\n",
      "63\n",
      "64\n",
      "65\n",
      "66\n",
      "67\n",
      "68\n",
      "69\n",
      "70\n",
      "71\n",
      "72\n",
      "73\n",
      "74\n",
      "75\n",
      "76\n",
      "77\n",
      "78\n",
      "79\n",
      "80\n",
      "81\n",
      "82\n",
      "83\n",
      "84\n",
      "85\n",
      "86\n",
      "87\n",
      "88\n",
      "89\n",
      "90\n",
      "91\n",
      "92\n",
      "93\n",
      "94\n",
      "95\n",
      "96\n",
      "97\n",
      "98\n",
      "99\n",
      "100\n",
      "101\n",
      "102\n",
      "103\n",
      "104\n",
      "105\n",
      "106\n",
      "107\n",
      "108\n",
      "109\n",
      "110\n",
      "111\n",
      "112\n",
      "113\n",
      "114\n",
      "115\n",
      "116\n",
      "117\n",
      "118\n",
      "119\n",
      "120\n",
      "121\n",
      "122\n",
      "123\n",
      "124\n",
      "125\n",
      "126\n",
      "127\n",
      "128\n",
      "129\n",
      "130\n",
      "131\n",
      "132\n",
      "133\n",
      "134\n",
      "135\n",
      "136\n",
      "137\n",
      "138\n",
      "139\n",
      "140\n",
      "141\n",
      "142\n",
      "143\n",
      "144\n",
      "145\n",
      "146\n",
      "147\n",
      "148\n",
      "149\n",
      "150\n",
      "151\n",
      "152\n",
      "153\n",
      "154\n",
      "155\n",
      "156\n",
      "157\n",
      "158\n",
      "159\n",
      "160\n",
      "161\n",
      "162\n",
      "163\n",
      "164\n",
      "165\n",
      "166\n",
      "167\n",
      "168\n",
      "169\n",
      "170\n",
      "171\n",
      "172\n",
      "173\n",
      "174\n",
      "175\n",
      "176\n",
      "177\n",
      "178\n",
      "179\n",
      "180\n",
      "181\n",
      "182\n",
      "183\n",
      "184\n",
      "185\n",
      "186\n",
      "187\n",
      "188\n",
      "189\n",
      "190\n",
      "191\n",
      "192\n",
      "193\n",
      "194\n",
      "195\n",
      "196\n",
      "197\n",
      "198\n",
      "199\n"
     ]
    }
   ],
   "source": [
    "data_list = []\n",
    "ground_truth_list =[]\n",
    "mask_list = []\n",
    "\n",
    "leftMargin = 131\n",
    "rightMargin = 4\n",
    "topMargin = 4\n",
    "botMargin = 4\n",
    "\n",
    "\n",
    "for i in range(len(disp_path_list)):\n",
    "    count = 0\n",
    "    #print ('a',disp_path_list[i])\n",
    "    #print ('b',training_data_folder_path_list[i])\n",
    "    #print ('d',training_data_folder_path_list_r[i])\n",
    "    #print ('c',groundtruth_folder_path_list[i])\n",
    "    if training_data_folder_path_list[i][-7:-4] == disp_path_list[i][-17:-14]:\n",
    "        count+=1\n",
    "        tmp_disp = skimage.io.imread(disp_path_list[i]).astype('uint16')/256.0\n",
    "        tmp_disp = tmp_disp[topMargin:-botMargin, leftMargin:-rightMargin]\n",
    "        #print(tmp_disp.max(),'lala')\n",
    "    if training_data_folder_path_list[i][-7:-4] ==groundtruth_folder_path_list[i][-7:-4]:\n",
    "        count+=1\n",
    "        tmp_ground_true = skimage.io.imread(groundtruth_folder_path_list[i]).astype('uint16')/256.0\n",
    "        tmp_ground_true = tmp_ground_true[topMargin:-botMargin, leftMargin:-rightMargin]\n",
    "        test_gt = skimage.io.imread(groundtruth_folder_path_list[i]).astype('uint16')\n",
    "        #print(tmp_ground_true.shape)\n",
    "        #print(tmp_ground_true.max(),'laaala')\n",
    "    print (i)\n",
    "    if count==2:\n",
    "        left_image = plt.imread(training_data_folder_path_list[i]) \n",
    "        right_image = plt.imread(training_data_folder_path_list_r[i])\n",
    "        \n",
    "        left_image = left_image[topMargin:-botMargin, leftMargin:-rightMargin,:]\n",
    "        right_image = right_image[topMargin:-botMargin, leftMargin:-rightMargin,:]\n",
    "        \n",
    "        warp_left = getWarpedImageWithBilinear(right_image,tmp_disp)\n",
    "        error_left = getErrorImage(warp_left,left_image)\n",
    "        tmp_combine = np.dstack((left_image,right_image,warp_left,error_left,tmp_disp))\n",
    "        data_list.append(tmp_combine)\n",
    "        \n",
    "        tmp_ground_true[tmp_ground_true == inf] =0 \n",
    "        ground_truth_list.append(tmp_ground_true[:,:, newaxis])\n",
    "        mask_list.append(((tmp_ground_true>0)*1.0)[:,:, newaxis])\n",
    "            \n",
    "        "
   ]
  },
  {
   "cell_type": "code",
   "execution_count": 247,
   "metadata": {},
   "outputs": [
    {
     "name": "stdout",
     "output_type": "stream",
     "text": [
      "(240, 1232)\n"
     ]
    }
   ],
   "source": [
    "print(data_np[1].shape[:2])"
   ]
  },
  {
   "cell_type": "code",
   "execution_count": 248,
   "metadata": {},
   "outputs": [
    {
     "name": "stdout",
     "output_type": "stream",
     "text": [
      "(200, 367, 1105, 13)\n",
      "(200, 367, 1105, 1)\n",
      "(200, 367, 1105, 1)\n"
     ]
    }
   ],
   "source": [
    "data_np = np.array(data_list)\n",
    "ground_truth_np = np.array(ground_truth_list)\n",
    "mask_np = np.array(mask_list)\n",
    "print(data_np.shape)\n",
    "print(ground_truth_np.shape)\n",
    "print(mask_np.shape)"
   ]
  },
  {
   "cell_type": "code",
   "execution_count": null,
   "metadata": {},
   "outputs": [],
   "source": []
  },
  {
   "cell_type": "code",
   "execution_count": 249,
   "metadata": {},
   "outputs": [],
   "source": [
    "# check if any mismatch happened\n",
    "for i in range(200):\n",
    "    if data_np[i].shape[:2] != ground_truth_np[i].shape[:2] \\\n",
    "        or data_np[i].shape[:2] != mask_np[i].shape[:2] \\\n",
    "        or data_np[i].shape[:2] != mask_np[i].shape[:2]:\n",
    "        print(i)\n",
    "        print(data_np[i].shape)\n",
    "        print(ground_truth_np[i].shape)\n",
    "        print(mask_np[i].shape)"
   ]
  },
  {
   "cell_type": "code",
   "execution_count": 250,
   "metadata": {},
   "outputs": [
    {
     "name": "stdout",
     "output_type": "stream",
     "text": [
      "complete shuffling\n"
     ]
    }
   ],
   "source": [
    "from sklearn.utils import shuffle\n",
    "data_np, ground_truth_np, mask_np = shuffle(data_np, ground_truth_np, mask_np, random_state=42)\n",
    "print(\"complete shuffling\")"
   ]
  },
  {
   "cell_type": "code",
   "execution_count": 251,
   "metadata": {},
   "outputs": [
    {
     "name": "stdout",
     "output_type": "stream",
     "text": [
      "(367, 1105, 13)\n"
     ]
    }
   ],
   "source": [
    "print(data_np[0].shape)"
   ]
  },
  {
   "cell_type": "code",
   "execution_count": 252,
   "metadata": {},
   "outputs": [],
   "source": [
    "split_point = 160\n",
    "\n",
    "data_np_t, ground_truth_np_t, mask_np_t = data_np[:split_point], ground_truth_np[:split_point], mask_np[:split_point]\n",
    "data_np_v, ground_truth_np_v, mask_np_v = data_np[split_point:], ground_truth_np[split_point:], mask_np[split_point:]\n"
   ]
  },
  {
   "cell_type": "code",
   "execution_count": 253,
   "metadata": {},
   "outputs": [],
   "source": [
    "\n",
    "def generator_stack(data_np, ground_truth_np, mask_np):\n",
    "    num_samples = data_np.shape[0]\n",
    "    while 1: # Loop forever so the generator never terminates\n",
    "        #data, label =shuffle(data, label, random_state=33)\n",
    "        for offset in range(0, num_samples): \n",
    "            if offset == num_samples - 1:\n",
    "                data_np, ground_truth_np, mask_np = shuffle(data_np, ground_truth_np, mask_np, random_state=33)\n",
    "                yield [(data_np[offset])[newaxis,:,:,:],(mask_np[offset])[newaxis,:,:,:]],(ground_truth_np[offset])[newaxis,:,:,:]\n",
    "                break\n",
    "            #print(folder_path_list)\n",
    "            yield [(data_np[offset])[newaxis,:,:,:],(mask_np[offset])[newaxis,:,:,:]],(ground_truth_np[offset])[newaxis,:,:,:]\n",
    "            \n",
    "            \n",
    "            \n",
    "train_generator = generator_stack(data_np_t, ground_truth_np_t, mask_np_t)\n",
    "val_generator = generator_stack(data_np_v, ground_truth_np_v, mask_np_v)"
   ]
  },
  {
   "cell_type": "code",
   "execution_count": 254,
   "metadata": {},
   "outputs": [
    {
     "name": "stdout",
     "output_type": "stream",
     "text": [
      "ok\n"
     ]
    }
   ],
   "source": [
    "print('ok')"
   ]
  },
  {
   "cell_type": "code",
   "execution_count": 358,
   "metadata": {},
   "outputs": [
    {
     "name": "stdout",
     "output_type": "stream",
     "text": [
      "(40, 367, 1105, 13)\n"
     ]
    }
   ],
   "source": [
    "print (data_np_v.shape)"
   ]
  },
  {
   "cell_type": "code",
   "execution_count": 361,
   "metadata": {},
   "outputs": [
    {
     "name": "stderr",
     "output_type": "stream",
     "text": [
      "/home/tiuser/anaconda/envs/tensorflow/lib/python3.5/site-packages/skimage/util/dtype.py:130: UserWarning: Possible precision loss when converting from float64 to uint8\n",
      "  .format(dtypeobj_in, dtypeobj_out))\n"
     ]
    }
   ],
   "source": [
    "skimage.io.imsave('example_left.png',(data_np_v[0][:,:,0:3]))\n",
    "skimage.io.imsave('example_right.png',(data_np_v[0][:,:,3:6]))\n",
    "skimage.io.imsave('example_warped.png',(data_np_v[0][:,:,6:9]))\n",
    "skimage.io.imsave('example_error.png',(data_np_v[0][:,:,9:12]))"
   ]
  },
  {
   "cell_type": "code",
   "execution_count": null,
   "metadata": {},
   "outputs": [],
   "source": [
    "skimage.io.imsave('example_left.png',(tmp_res*256).astype('uint16'))"
   ]
  },
  {
   "cell_type": "code",
   "execution_count": 362,
   "metadata": {},
   "outputs": [
    {
     "data": {
      "text/plain": [
       "<matplotlib.image.AxesImage at 0x7f0435913c18>"
      ]
     },
     "execution_count": 362,
     "metadata": {},
     "output_type": "execute_result"
    },
    {
     "data": {
      "image/png": "[encoded data removed]",
      "text/plain": [
       "<Figure size 432x288 with 1 Axes>"
      ]
     },
     "metadata": {},
     "output_type": "display_data"
    }
   ],
   "source": [
    "plt.imshow(data_np_v[0][:,:,0:3])"
   ]
  },
  {
   "cell_type": "code",
   "execution_count": null,
   "metadata": {},
   "outputs": [],
   "source": []
  },
  {
   "cell_type": "code",
   "execution_count": null,
   "metadata": {},
   "outputs": [],
   "source": []
  },
  {
   "cell_type": "code",
   "execution_count": null,
   "metadata": {},
   "outputs": [],
   "source": []
  },
  {
   "cell_type": "code",
   "execution_count": null,
   "metadata": {},
   "outputs": [],
   "source": []
  },
  {
   "cell_type": "markdown",
   "metadata": {},
   "source": [
    "# model "
   ]
  },
  {
   "cell_type": "code",
   "execution_count": 256,
   "metadata": {},
   "outputs": [],
   "source": [
    "from keras.models import Sequential, load_model, Model\n",
    "from keras.layers import Input,Activation,  Dense,Conv2D,Conv2DTranspose\n",
    "from keras.layers import GlobalAveragePooling2D,MaxPooling2D,BatchNormalization, Dropout\n",
    "from keras.layers import Add,Subtract,Multiply,Concatenate, Flatten, Lambda\n",
    "from keras.callbacks import EarlyStopping, ReduceLROnPlateau, ModelCheckpoint, TensorBoard\n",
    "from keras.optimizers import SGD\n",
    "from keras import backend as K\n",
    "from keras.models import load_model\n",
    "from keras.optimizers import Adam\n",
    "from keras.callbacks import EarlyStopping,ReduceLROnPlateau\n",
    "import tensorflow as tf\n",
    "from keras.utils import multi_gpu_model\n",
    "from keras.models import model_from_json"
   ]
  },
  {
   "cell_type": "markdown",
   "metadata": {},
   "source": [
    "# add one layer of 3*3 kernel\n"
   ]
  },
  {
   "cell_type": "code",
   "execution_count": 347,
   "metadata": {},
   "outputs": [
    {
     "name": "stdout",
     "output_type": "stream",
     "text": [
      "__________________________________________________________________________________________________\n",
      "Layer (type)                    Output Shape         Param #     Connected to                     \n",
      "==================================================================================================\n",
      "input_image (InputLayer)        (None, None, None, 1 0                                            \n",
      "__________________________________________________________________________________________________\n",
      "L1 (Conv2D)                     (None, None, None, 6 40832       input_image[0][0]                \n",
      "__________________________________________________________________________________________________\n",
      "L2 (Conv2D)                     (None, None, None, 3 51232       L1[0][0]                         \n",
      "__________________________________________________________________________________________________\n",
      "L3 (Conv2D)                     (None, None, None, 3 9248        L2[0][0]                         \n",
      "__________________________________________________________________________________________________\n",
      "mask (InputLayer)               (None, None, None, 1 0                                            \n",
      "__________________________________________________________________________________________________\n",
      "L4 (Conv2D)                     (None, None, None, 1 289         L3[0][0]                         \n",
      "__________________________________________________________________________________________________\n",
      "mask_out (Multiply)             (None, None, None, 1 0           mask[0][0]                       \n",
      "                                                                 L4[0][0]                         \n",
      "==================================================================================================\n",
      "Total params: 101,601\n",
      "Trainable params: 101,601\n",
      "Non-trainable params: 0\n",
      "__________________________________________________________________________________________________\n"
     ]
    }
   ],
   "source": [
    "# model #glorot_uniform  -> 180\n",
    "input_shape_c = (None, None,13)\n",
    "input_shape = (None, None,1)\n",
    "\n",
    "input_image  = Input(shape=input_shape_c,name='input_image')\n",
    "mask = Input(shape=input_shape,name='mask')\n",
    "\n",
    "\n",
    "conv1 = Conv2D(filters = 64, kernel_size=(7,7), strides=(1,1), padding=\"same\", activation=\"relu\",name='L1',kernel_initializer='glorot_uniform')(input_image)\n",
    "conv1 = Conv2D(filters = 32, kernel_size=(5,5), strides=(1,1), padding=\"same\", activation=\"relu\",name='L2',kernel_initializer='glorot_uniform')(conv1)\n",
    "conv1 = Conv2D(filters = 32, kernel_size=(3,3), strides=(1,1), padding=\"same\", activation=\"relu\",name='L3',kernel_initializer='glorot_uniform')(conv1)\n",
    "conv1 = Conv2D(filters = 1, kernel_size=(3,3), strides=(1,1), padding=\"same\", activation=\"relu\",name='L4',kernel_initializer='glorot_uniform')(conv1)\n",
    "\n",
    "\n",
    "\n",
    "mask_out = Multiply(name='mask_out')([mask,conv1])\n",
    "\n",
    "model = Model(inputs=[input_image,mask], outputs=mask_out)\n",
    "model.summary()"
   ]
  },
  {
   "cell_type": "code",
   "execution_count": 348,
   "metadata": {},
   "outputs": [
    {
     "name": "stdout",
     "output_type": "stream",
     "text": [
      "Epoch 1/120\n",
      "160/160 [==============================] - 21s 131ms/step - loss: 1.1629 - val_loss: 0.3114\n",
      "Epoch 2/120\n",
      "160/160 [==============================] - 22s 135ms/step - loss: 0.3233 - val_loss: 0.2554\n",
      "Epoch 3/120\n",
      "160/160 [==============================] - 21s 130ms/step - loss: 0.3377 - val_loss: 0.2625\n",
      "Epoch 4/120\n",
      "160/160 [==============================] - 21s 129ms/step - loss: 0.2900 - val_loss: 0.2891\n",
      "Epoch 5/120\n",
      "160/160 [==============================] - 21s 130ms/step - loss: 0.2892 - val_loss: 0.2999\n",
      "Epoch 6/120\n",
      "160/160 [==============================] - 22s 136ms/step - loss: 0.3177 - val_loss: 0.2322\n",
      "Epoch 7/120\n",
      "160/160 [==============================] - 21s 131ms/step - loss: 0.2799 - val_loss: 0.2397\n",
      "Epoch 8/120\n",
      "160/160 [==============================] - 21s 131ms/step - loss: 0.3004 - val_loss: 0.3277\n",
      "Epoch 9/120\n",
      "160/160 [==============================] - 21s 131ms/step - loss: 0.2931 - val_loss: 0.3168\n",
      "Epoch 10/120\n",
      "160/160 [==============================] - 22s 136ms/step - loss: 0.2817 - val_loss: 0.2572\n",
      "Epoch 11/120\n",
      "160/160 [==============================] - 21s 131ms/step - loss: 0.2607 - val_loss: 0.2312\n",
      "Epoch 12/120\n",
      "160/160 [==============================] - 21s 131ms/step - loss: 0.2999 - val_loss: 0.2660\n",
      "Epoch 13/120\n",
      "160/160 [==============================] - 21s 130ms/step - loss: 0.2919 - val_loss: 0.2743\n",
      "Epoch 14/120\n",
      "160/160 [==============================] - 22s 136ms/step - loss: 0.2662 - val_loss: 0.2466\n",
      "Epoch 15/120\n",
      "160/160 [==============================] - 21s 130ms/step - loss: 0.2819 - val_loss: 0.2432\n",
      "Epoch 16/120\n",
      "160/160 [==============================] - 21s 131ms/step - loss: 0.2755 - val_loss: 0.2959\n",
      "Epoch 17/120\n",
      "160/160 [==============================] - 21s 131ms/step - loss: 0.2698 - val_loss: 0.2726\n",
      "Epoch 18/120\n",
      "160/160 [==============================] - 22s 136ms/step - loss: 0.2712 - val_loss: 0.2324\n",
      "\n",
      "Epoch 00018: ReduceLROnPlateau reducing learning rate to 4.999999873689376e-05.\n",
      "Epoch 19/120\n",
      "160/160 [==============================] - 21s 130ms/step - loss: 0.2712 - val_loss: 0.2271\n",
      "Epoch 20/120\n",
      "160/160 [==============================] - 21s 132ms/step - loss: 0.2487 - val_loss: 0.2549\n",
      "Epoch 21/120\n",
      "160/160 [==============================] - 21s 131ms/step - loss: 0.2650 - val_loss: 0.2508\n",
      "Epoch 22/120\n",
      "160/160 [==============================] - 22s 136ms/step - loss: 0.2551 - val_loss: 0.2046\n",
      "Epoch 23/120\n",
      "160/160 [==============================] - 21s 130ms/step - loss: 0.2542 - val_loss: 0.2227\n",
      "Epoch 24/120\n",
      "160/160 [==============================] - 21s 131ms/step - loss: 0.2843 - val_loss: 0.2237\n",
      "Epoch 25/120\n",
      "160/160 [==============================] - 21s 131ms/step - loss: 0.2353 - val_loss: 0.2554\n",
      "Epoch 26/120\n",
      "160/160 [==============================] - 22s 136ms/step - loss: 0.2555 - val_loss: 0.2292\n",
      "Epoch 27/120\n",
      "160/160 [==============================] - 21s 131ms/step - loss: 0.2580 - val_loss: 0.2307\n",
      "Epoch 28/120\n",
      "160/160 [==============================] - 21s 130ms/step - loss: 0.2673 - val_loss: 0.2897\n",
      "Epoch 29/120\n",
      "160/160 [==============================] - 21s 130ms/step - loss: 0.2625 - val_loss: 0.2934\n",
      "\n",
      "Epoch 00029: ReduceLROnPlateau reducing learning rate to 2.499999936844688e-05.\n",
      "Epoch 30/120\n",
      "160/160 [==============================] - 22s 137ms/step - loss: 0.2434 - val_loss: 0.2012\n",
      "Epoch 31/120\n",
      "160/160 [==============================] - 21s 130ms/step - loss: 0.2321 - val_loss: 0.2213\n",
      "Epoch 32/120\n",
      "160/160 [==============================] - 21s 132ms/step - loss: 0.2531 - val_loss: 0.2320\n",
      "Epoch 33/120\n",
      "160/160 [==============================] - 21s 130ms/step - loss: 0.2718 - val_loss: 0.2349\n",
      "Epoch 34/120\n",
      "160/160 [==============================] - 22s 136ms/step - loss: 0.2252 - val_loss: 0.2203\n",
      "Epoch 35/120\n",
      "160/160 [==============================] - 21s 129ms/step - loss: 0.2624 - val_loss: 0.2239\n",
      "Epoch 36/120\n",
      "160/160 [==============================] - 21s 131ms/step - loss: 0.2520 - val_loss: 0.2543\n",
      "Epoch 37/120\n",
      "160/160 [==============================] - 21s 131ms/step - loss: 0.2485 - val_loss: 0.2280\n",
      "\n",
      "Epoch 00037: ReduceLROnPlateau reducing learning rate to 1.249999968422344e-05.\n",
      "Epoch 38/120\n",
      "160/160 [==============================] - 22s 135ms/step - loss: 0.2445 - val_loss: 0.2316\n",
      "Epoch 39/120\n",
      "160/160 [==============================] - 21s 130ms/step - loss: 0.2300 - val_loss: 0.2191\n",
      "Epoch 40/120\n",
      "160/160 [==============================] - 21s 131ms/step - loss: 0.2589 - val_loss: 0.2257\n",
      "Epoch 41/120\n",
      "160/160 [==============================] - 21s 131ms/step - loss: 0.2324 - val_loss: 0.2197\n",
      "Epoch 42/120\n",
      "160/160 [==============================] - 22s 136ms/step - loss: 0.2599 - val_loss: 0.2238\n",
      "Epoch 43/120\n",
      "160/160 [==============================] - 21s 130ms/step - loss: 0.2228 - val_loss: 0.2214\n",
      "Epoch 44/120\n",
      "160/160 [==============================] - 21s 132ms/step - loss: 0.2409 - val_loss: 0.2230\n",
      "\n",
      "Epoch 00044: ReduceLROnPlateau reducing learning rate to 6.24999984211172e-06.\n",
      "Epoch 45/120\n",
      "160/160 [==============================] - 21s 130ms/step - loss: 0.2501 - val_loss: 0.2382\n",
      "Epoch 46/120\n",
      "160/160 [==============================] - 22s 137ms/step - loss: 0.2320 - val_loss: 0.1970\n",
      "Epoch 47/120\n",
      "160/160 [==============================] - 21s 130ms/step - loss: 0.2466 - val_loss: 0.2172\n",
      "Epoch 48/120\n",
      "160/160 [==============================] - 21s 132ms/step - loss: 0.2433 - val_loss: 0.2204\n",
      "Epoch 49/120\n",
      "160/160 [==============================] - 21s 130ms/step - loss: 0.2405 - val_loss: 0.2378\n",
      "Epoch 50/120\n",
      "160/160 [==============================] - 22s 136ms/step - loss: 0.2404 - val_loss: 0.2155\n",
      "Epoch 51/120\n",
      "160/160 [==============================] - 21s 130ms/step - loss: 0.2434 - val_loss: 0.2198\n",
      "Epoch 52/120\n",
      "160/160 [==============================] - 21s 131ms/step - loss: 0.2378 - val_loss: 0.2324\n",
      "Epoch 53/120\n",
      "160/160 [==============================] - 21s 131ms/step - loss: 0.2472 - val_loss: 0.2232\n",
      "\n",
      "Epoch 00053: ReduceLROnPlateau reducing learning rate to 3.12499992105586e-06.\n",
      "Epoch 54/120\n",
      "160/160 [==============================] - 22s 136ms/step - loss: 0.2365 - val_loss: 0.1962\n",
      "Epoch 55/120\n",
      "160/160 [==============================] - 21s 130ms/step - loss: 0.2401 - val_loss: 0.2164\n",
      "Epoch 56/120\n",
      "160/160 [==============================] - 21s 131ms/step - loss: 0.2405 - val_loss: 0.2355\n",
      "Epoch 57/120\n",
      "160/160 [==============================] - 21s 131ms/step - loss: 0.2432 - val_loss: 0.2343\n",
      "Epoch 58/120\n",
      "160/160 [==============================] - 22s 136ms/step - loss: 0.2317 - val_loss: 0.1988\n",
      "Epoch 59/120\n",
      "160/160 [==============================] - 21s 129ms/step - loss: 0.2602 - val_loss: 0.2176\n",
      "Epoch 60/120\n",
      "160/160 [==============================] - 21s 132ms/step - loss: 0.2266 - val_loss: 0.2532\n",
      "\n",
      "Epoch 00060: ReduceLROnPlateau reducing learning rate to 1.56249996052793e-06.\n",
      "Epoch 61/120\n",
      "160/160 [==============================] - 21s 131ms/step - loss: 0.2554 - val_loss: 0.2024\n",
      "Epoch 62/120\n",
      "160/160 [==============================] - 22s 136ms/step - loss: 0.2162 - val_loss: 0.2043\n",
      "Epoch 63/120\n",
      "160/160 [==============================] - 21s 130ms/step - loss: 0.2467 - val_loss: 0.2157\n",
      "Epoch 64/120\n",
      "160/160 [==============================] - 21s 131ms/step - loss: 0.2340 - val_loss: 0.2285\n",
      "Epoch 00064: early stopping\n"
     ]
    },
    {
     "data": {
      "text/plain": [
       "<keras.callbacks.History at 0x7f0436732278>"
      ]
     },
     "execution_count": 348,
     "metadata": {},
     "output_type": "execute_result"
    }
   ],
   "source": [
    "optimizer = Adam(lr=0.0001, beta_1=0.9, beta_2=0.999, epsilon=None, decay=0.0, amsgrad=False)\n",
    "model.compile(optimizer=optimizer, loss='mean_absolute_error')\n",
    "#model.fit(x=[data_np,mask_np], y=ground_truth_np, batch_size=1, epochs=10, verbose=1, validation_split=0.1, shuffle=True,callbacks = callbacks)\n",
    "\n",
    "\n",
    "model.fit_generator(train_generator, steps_per_epoch=split_point , validation_data=val_generator, validation_steps = 200-split_point, epochs=120, callbacks=callbacks, verbose = 1)"
   ]
  },
  {
   "cell_type": "code",
   "execution_count": 349,
   "metadata": {},
   "outputs": [
    {
     "name": "stdout",
     "output_type": "stream",
     "text": [
      "40\n",
      "40\n"
     ]
    }
   ],
   "source": [
    "result = []\n",
    "result_dense = []\n",
    "tmp_res = skimage.io.imread(disp_path_list[i]).astype('uint16')/256.0\n",
    "tmp_res = np.zeros_like(tmp_res)\n",
    "tmp_sde = np.zeros_like(tmp_res)\n",
    "tmp_gt = np.zeros_like(tmp_res)\n",
    "for i in range(200-split_point):\n",
    "    mask_r = mask_np_v[i][newaxis,:,:,:]>-1\n",
    "    tmp_r = model.predict([data_np_v[i][newaxis,:,:,:],mask_np_v[i][newaxis,:,:,:]], verbose=0, steps=None)\n",
    "    tmp_r_dense = model.predict([data_np_v[i][newaxis,:,:,:],mask_r], verbose=0, steps=None)\n",
    "    tmp_res[topMargin:-botMargin, leftMargin:-rightMargin] = tmp_r_dense[0,:,:,0]\n",
    "    tmp_gt[topMargin:-botMargin, leftMargin:-rightMargin] = ground_truth_np_v[i][:,:,0]\n",
    "    tmp_sde[topMargin:-botMargin, leftMargin:-rightMargin] = data_np_v[i][:,:,-1]\n",
    "    \n",
    "    skimage.io.imsave('./val_Results_4layers_V3/val_'+str(i)+'_pnn.png',(tmp_res*256).astype('uint16'))\n",
    "    skimage.io.imsave('./val_Results_4layers_V3/val_'+str(i)+'_gt.png',(tmp_gt*256).astype('uint16'))\n",
    "    skimage.io.imsave('./val_Results_4layers_V3/val_'+str(i)+'_sde.png',(tmp_sde*256).astype('uint16'))\n",
    "    \n",
    "    result.append(tmp_r)\n",
    "    result_dense.append(tmp_r_dense)\n",
    "    \n",
    "print(len(result))\n",
    "print(len(result_dense))"
   ]
  },
  {
   "cell_type": "code",
   "execution_count": null,
   "metadata": {},
   "outputs": [],
   "source": []
  },
  {
   "cell_type": "code",
   "execution_count": null,
   "metadata": {},
   "outputs": [],
   "source": []
  },
  {
   "cell_type": "code",
   "execution_count": null,
   "metadata": {},
   "outputs": [],
   "source": []
  },
  {
   "cell_type": "code",
   "execution_count": null,
   "metadata": {},
   "outputs": [],
   "source": []
  },
  {
   "cell_type": "code",
   "execution_count": null,
   "metadata": {},
   "outputs": [],
   "source": []
  },
  {
   "cell_type": "code",
   "execution_count": null,
   "metadata": {},
   "outputs": [],
   "source": []
  },
  {
   "cell_type": "code",
   "execution_count": null,
   "metadata": {},
   "outputs": [],
   "source": []
  },
  {
   "cell_type": "code",
   "execution_count": null,
   "metadata": {},
   "outputs": [],
   "source": []
  },
  {
   "cell_type": "markdown",
   "metadata": {},
   "source": [
    "# 4 layers_V2: 32 7 *7+48 5 *5 +48 3 *3 +32 3 *3 +1 3*3"
   ]
  },
  {
   "cell_type": "code",
   "execution_count": 344,
   "metadata": {},
   "outputs": [
    {
     "name": "stdout",
     "output_type": "stream",
     "text": [
      "__________________________________________________________________________________________________\n",
      "Layer (type)                    Output Shape         Param #     Connected to                     \n",
      "==================================================================================================\n",
      "input_image (InputLayer)        (None, None, None, 1 0                                            \n",
      "__________________________________________________________________________________________________\n",
      "L1 (Conv2D)                     (None, None, None, 3 20416       input_image[0][0]                \n",
      "__________________________________________________________________________________________________\n",
      "L2 (Conv2D)                     (None, None, None, 4 38448       L1[0][0]                         \n",
      "__________________________________________________________________________________________________\n",
      "L3 (Conv2D)                     (None, None, None, 4 20784       L2[0][0]                         \n",
      "__________________________________________________________________________________________________\n",
      "L4 (Conv2D)                     (None, None, None, 3 13856       L3[0][0]                         \n",
      "__________________________________________________________________________________________________\n",
      "mask (InputLayer)               (None, None, None, 1 0                                            \n",
      "__________________________________________________________________________________________________\n",
      "L5 (Conv2D)                     (None, None, None, 1 289         L4[0][0]                         \n",
      "__________________________________________________________________________________________________\n",
      "mask_out (Multiply)             (None, None, None, 1 0           mask[0][0]                       \n",
      "                                                                 L5[0][0]                         \n",
      "==================================================================================================\n",
      "Total params: 93,793\n",
      "Trainable params: 93,793\n",
      "Non-trainable params: 0\n",
      "__________________________________________________________________________________________________\n"
     ]
    }
   ],
   "source": [
    "# model #glorot_uniform  -> 180\n",
    "input_shape_c = (None, None,13)\n",
    "input_shape = (None, None,1)\n",
    "\n",
    "input_image  = Input(shape=input_shape_c,name='input_image')\n",
    "mask = Input(shape=input_shape,name='mask')\n",
    "\n",
    "\n",
    "conv1 = Conv2D(filters = 32, kernel_size=(7,7), strides=(1,1), padding=\"same\", activation=\"relu\",name='L1',kernel_initializer='glorot_uniform')(input_image)\n",
    "conv1 = Conv2D(filters = 48, kernel_size=(5,5), strides=(1,1), padding=\"same\", activation=\"relu\",name='L2',kernel_initializer='glorot_uniform')(conv1)\n",
    "conv1 = Conv2D(filters = 48, kernel_size=(3,3), strides=(1,1), padding=\"same\", activation=\"relu\",name='L3',kernel_initializer='glorot_uniform')(conv1)\n",
    "conv1 = Conv2D(filters = 32, kernel_size=(3,3), strides=(1,1), padding=\"same\", activation=\"relu\",name='L4',kernel_initializer='glorot_uniform')(conv1)\n",
    "conv1 = Conv2D(filters = 1, kernel_size=(3,3), strides=(1,1), padding=\"same\", activation=\"relu\",name='L5',kernel_initializer='glorot_uniform')(conv1)\n",
    "\n",
    "\n",
    "mask_out = Multiply(name='mask_out')([mask,conv1])\n",
    "\n",
    "model = Model(inputs=[input_image,mask], outputs=mask_out)\n",
    "model.summary()"
   ]
  },
  {
   "cell_type": "code",
   "execution_count": 345,
   "metadata": {},
   "outputs": [
    {
     "name": "stdout",
     "output_type": "stream",
     "text": [
      "Epoch 1/120\n",
      "160/160 [==============================] - 23s 145ms/step - loss: 1.3202 - val_loss: 0.3298\n",
      "Epoch 2/120\n",
      "160/160 [==============================] - 23s 144ms/step - loss: 0.3194 - val_loss: 0.2761\n",
      "Epoch 3/120\n",
      "160/160 [==============================] - 22s 140ms/step - loss: 0.3088 - val_loss: 0.2881\n",
      "Epoch 4/120\n",
      "160/160 [==============================] - 22s 141ms/step - loss: 0.2805 - val_loss: 0.2738\n",
      "Epoch 5/120\n",
      "160/160 [==============================] - 22s 141ms/step - loss: 0.2706 - val_loss: 0.2516\n",
      "Epoch 6/120\n",
      "160/160 [==============================] - 24s 148ms/step - loss: 0.2759 - val_loss: 0.2318\n",
      "Epoch 7/120\n",
      "160/160 [==============================] - 23s 141ms/step - loss: 0.2833 - val_loss: 0.2511\n",
      "Epoch 8/120\n",
      "160/160 [==============================] - 23s 142ms/step - loss: 0.2881 - val_loss: 0.2816\n",
      "Epoch 9/120\n",
      "160/160 [==============================] - 23s 142ms/step - loss: 0.2524 - val_loss: 0.2485\n",
      "Epoch 10/120\n",
      "160/160 [==============================] - 23s 147ms/step - loss: 0.2794 - val_loss: 0.1997\n",
      "Epoch 11/120\n",
      "160/160 [==============================] - 23s 141ms/step - loss: 0.2628 - val_loss: 0.2341\n",
      "Epoch 12/120\n",
      "160/160 [==============================] - 23s 142ms/step - loss: 0.2875 - val_loss: 0.2818\n",
      "Epoch 13/120\n",
      "160/160 [==============================] - 23s 142ms/step - loss: 0.2559 - val_loss: 0.2344\n",
      "Epoch 14/120\n",
      "160/160 [==============================] - 24s 148ms/step - loss: 0.2783 - val_loss: 0.2316\n",
      "Epoch 15/120\n",
      "160/160 [==============================] - 22s 140ms/step - loss: 0.2710 - val_loss: 0.2416\n",
      "Epoch 16/120\n",
      "160/160 [==============================] - 23s 142ms/step - loss: 0.2667 - val_loss: 0.2848\n",
      "Epoch 17/120\n",
      "160/160 [==============================] - 23s 142ms/step - loss: 0.2699 - val_loss: 0.3263\n",
      "\n",
      "Epoch 00017: ReduceLROnPlateau reducing learning rate to 4.999999873689376e-05.\n",
      "Epoch 18/120\n",
      "160/160 [==============================] - 24s 147ms/step - loss: 0.2761 - val_loss: 0.2105\n",
      "Epoch 19/120\n",
      "160/160 [==============================] - 23s 141ms/step - loss: 0.2377 - val_loss: 0.2203\n",
      "Epoch 20/120\n",
      "160/160 [==============================] - 23s 142ms/step - loss: 0.2515 - val_loss: 0.2327\n",
      "Epoch 21/120\n",
      "160/160 [==============================] - 23s 143ms/step - loss: 0.2646 - val_loss: 0.2279\n",
      "Epoch 22/120\n",
      "160/160 [==============================] - 23s 146ms/step - loss: 0.2608 - val_loss: 0.2202\n",
      "Epoch 23/120\n",
      "160/160 [==============================] - 23s 142ms/step - loss: 0.2311 - val_loss: 0.2225\n",
      "Epoch 24/120\n",
      "160/160 [==============================] - 23s 142ms/step - loss: 0.2626 - val_loss: 0.2452\n",
      "\n",
      "Epoch 00024: ReduceLROnPlateau reducing learning rate to 2.499999936844688e-05.\n",
      "Epoch 25/120\n",
      "160/160 [==============================] - 23s 142ms/step - loss: 0.2384 - val_loss: 0.2543\n",
      "Epoch 26/120\n",
      "160/160 [==============================] - 23s 147ms/step - loss: 0.2400 - val_loss: 0.2039\n",
      "Epoch 27/120\n",
      "160/160 [==============================] - 23s 141ms/step - loss: 0.2501 - val_loss: 0.2203\n",
      "Epoch 28/120\n",
      "160/160 [==============================] - 23s 142ms/step - loss: 0.2497 - val_loss: 0.2410\n",
      "Epoch 00028: early stopping\n"
     ]
    },
    {
     "data": {
      "text/plain": [
       "<keras.callbacks.History at 0x7f0436736208>"
      ]
     },
     "execution_count": 345,
     "metadata": {},
     "output_type": "execute_result"
    }
   ],
   "source": [
    "optimizer = Adam(lr=0.0001, beta_1=0.9, beta_2=0.999, epsilon=None, decay=0.0, amsgrad=False)\n",
    "model.compile(optimizer=optimizer, loss='mean_absolute_error')\n",
    "#model.fit(x=[data_np,mask_np], y=ground_truth_np, batch_size=1, epochs=10, verbose=1, validation_split=0.1, shuffle=True,callbacks = callbacks)\n",
    "\n",
    "\n",
    "model.fit_generator(train_generator, steps_per_epoch=split_point , validation_data=val_generator, validation_steps = 200-split_point, epochs=120, callbacks=callbacks, verbose = 1)"
   ]
  },
  {
   "cell_type": "code",
   "execution_count": 346,
   "metadata": {},
   "outputs": [
    {
     "name": "stdout",
     "output_type": "stream",
     "text": [
      "40\n",
      "40\n"
     ]
    }
   ],
   "source": [
    "result = []\n",
    "result_dense = []\n",
    "tmp_res = skimage.io.imread(disp_path_list[i]).astype('uint16')/256.0\n",
    "tmp_res = np.zeros_like(tmp_res)\n",
    "tmp_sde = np.zeros_like(tmp_res)\n",
    "tmp_gt = np.zeros_like(tmp_res)\n",
    "for i in range(200-split_point):\n",
    "    mask_r = mask_np_v[i][newaxis,:,:,:]>-1\n",
    "    tmp_r = model.predict([data_np_v[i][newaxis,:,:,:],mask_np_v[i][newaxis,:,:,:]], verbose=0, steps=None)\n",
    "    tmp_r_dense = model.predict([data_np_v[i][newaxis,:,:,:],mask_r], verbose=0, steps=None)\n",
    "    tmp_res[topMargin:-botMargin, leftMargin:-rightMargin] = tmp_r_dense[0,:,:,0]\n",
    "    tmp_gt[topMargin:-botMargin, leftMargin:-rightMargin] = ground_truth_np_v[i][:,:,0]\n",
    "    tmp_sde[topMargin:-botMargin, leftMargin:-rightMargin] = data_np_v[i][:,:,-1]\n",
    "    \n",
    "    skimage.io.imsave('./val_Results_4layers_V2/val_'+str(i)+'_pnn.png',(tmp_res*256).astype('uint16'))\n",
    "    skimage.io.imsave('./val_Results_4layers_V2/val_'+str(i)+'_gt.png',(tmp_gt*256).astype('uint16'))\n",
    "    skimage.io.imsave('./val_Results_4layers_V2/val_'+str(i)+'_sde.png',(tmp_sde*256).astype('uint16'))\n",
    "    \n",
    "    result.append(tmp_r)\n",
    "    result_dense.append(tmp_r_dense)\n",
    "    \n",
    "print(len(result))\n",
    "print(len(result_dense))"
   ]
  },
  {
   "cell_type": "code",
   "execution_count": null,
   "metadata": {},
   "outputs": [],
   "source": []
  },
  {
   "cell_type": "code",
   "execution_count": null,
   "metadata": {},
   "outputs": [],
   "source": []
  },
  {
   "cell_type": "code",
   "execution_count": null,
   "metadata": {},
   "outputs": [],
   "source": []
  },
  {
   "cell_type": "code",
   "execution_count": null,
   "metadata": {},
   "outputs": [],
   "source": []
  },
  {
   "cell_type": "code",
   "execution_count": null,
   "metadata": {},
   "outputs": [],
   "source": []
  },
  {
   "cell_type": "markdown",
   "metadata": {},
   "source": [
    "# 4 layers (32 7*7 32 5*5 32 3*3 1 3*3)"
   ]
  },
  {
   "cell_type": "code",
   "execution_count": 336,
   "metadata": {},
   "outputs": [
    {
     "name": "stdout",
     "output_type": "stream",
     "text": [
      "__________________________________________________________________________________________________\n",
      "Layer (type)                    Output Shape         Param #     Connected to                     \n",
      "==================================================================================================\n",
      "input_image (InputLayer)        (None, None, None, 1 0                                            \n",
      "__________________________________________________________________________________________________\n",
      "L1 (Conv2D)                     (None, None, None, 3 20416       input_image[0][0]                \n",
      "__________________________________________________________________________________________________\n",
      "L2 (Conv2D)                     (None, None, None, 3 25632       L1[0][0]                         \n",
      "__________________________________________________________________________________________________\n",
      "L3 (Conv2D)                     (None, None, None, 3 9248        L2[0][0]                         \n",
      "__________________________________________________________________________________________________\n",
      "mask (InputLayer)               (None, None, None, 1 0                                            \n",
      "__________________________________________________________________________________________________\n",
      "L4 (Conv2D)                     (None, None, None, 1 289         L3[0][0]                         \n",
      "__________________________________________________________________________________________________\n",
      "mask_out (Multiply)             (None, None, None, 1 0           mask[0][0]                       \n",
      "                                                                 L4[0][0]                         \n",
      "==================================================================================================\n",
      "Total params: 55,585\n",
      "Trainable params: 55,585\n",
      "Non-trainable params: 0\n",
      "__________________________________________________________________________________________________\n"
     ]
    }
   ],
   "source": [
    "# model #glorot_uniform  -> 180\n",
    "input_shape_c = (None, None,13)\n",
    "input_shape = (None, None,1)\n",
    "\n",
    "input_image  = Input(shape=input_shape_c,name='input_image')\n",
    "mask = Input(shape=input_shape,name='mask')\n",
    "\n",
    "\n",
    "conv1 = Conv2D(filters = 32, kernel_size=(7,7), strides=(1,1), padding=\"same\", activation=\"relu\",name='L1',kernel_initializer='glorot_uniform')(input_image)\n",
    "conv1 = Conv2D(filters = 32, kernel_size=(5,5), strides=(1,1), padding=\"same\", activation=\"relu\",name='L2',kernel_initializer='glorot_uniform')(conv1)\n",
    "conv1 = Conv2D(filters = 32, kernel_size=(3,3), strides=(1,1), padding=\"same\", activation=\"relu\",name='L3',kernel_initializer='glorot_uniform')(conv1)\n",
    "conv1 = Conv2D(filters = 1, kernel_size=(3,3), strides=(1,1), padding=\"same\", activation=\"relu\",name='L4',kernel_initializer='glorot_uniform')(conv1)\n",
    "\n",
    "\n",
    "mask_out = Multiply(name='mask_out')([mask,conv1])\n",
    "\n",
    "model = Model(inputs=[input_image,mask], outputs=mask_out)\n",
    "model.summary()"
   ]
  },
  {
   "cell_type": "code",
   "execution_count": 337,
   "metadata": {},
   "outputs": [],
   "source": [
    "callbacks = [EarlyStopping(monitor='val_loss',\n",
    "                           patience=18,\n",
    "                           verbose=1,\n",
    "                           min_delta=1e-3),\n",
    "             ReduceLROnPlateau(monitor='val_loss',\n",
    "                               factor=0.5,\n",
    "                               patience=7,\n",
    "                               verbose=1,\n",
    "                               min_delta=1e-3),\n",
    "            ]\n"
   ]
  },
  {
   "cell_type": "code",
   "execution_count": 338,
   "metadata": {},
   "outputs": [
    {
     "name": "stdout",
     "output_type": "stream",
     "text": [
      "Epoch 1/120\n",
      "160/160 [==============================] - 17s 106ms/step - loss: 1.3218 - val_loss: 0.3367\n",
      "Epoch 2/120\n",
      "160/160 [==============================] - 17s 108ms/step - loss: 0.3500 - val_loss: 0.3141\n",
      "Epoch 3/120\n",
      "160/160 [==============================] - 16s 103ms/step - loss: 0.3316 - val_loss: 0.3072\n",
      "Epoch 4/120\n",
      "160/160 [==============================] - 16s 102ms/step - loss: 0.3186 - val_loss: 0.3084\n",
      "Epoch 5/120\n",
      "160/160 [==============================] - 16s 102ms/step - loss: 0.3070 - val_loss: 0.3349\n",
      "Epoch 6/120\n",
      "160/160 [==============================] - 17s 108ms/step - loss: 0.3034 - val_loss: 0.2363\n",
      "Epoch 7/120\n",
      "160/160 [==============================] - 16s 103ms/step - loss: 0.2932 - val_loss: 0.3390\n",
      "Epoch 8/120\n",
      "160/160 [==============================] - 17s 104ms/step - loss: 0.2821 - val_loss: 0.2898\n",
      "Epoch 9/120\n",
      "160/160 [==============================] - 17s 103ms/step - loss: 0.2849 - val_loss: 0.2802\n",
      "Epoch 10/120\n",
      "160/160 [==============================] - 17s 108ms/step - loss: 0.2873 - val_loss: 0.2312\n",
      "Epoch 11/120\n",
      "160/160 [==============================] - 16s 103ms/step - loss: 0.2732 - val_loss: 0.2446\n",
      "Epoch 12/120\n",
      "160/160 [==============================] - 17s 103ms/step - loss: 0.2790 - val_loss: 0.2631\n",
      "Epoch 13/120\n",
      "160/160 [==============================] - 16s 103ms/step - loss: 0.2880 - val_loss: 0.3203\n",
      "Epoch 14/120\n",
      "160/160 [==============================] - 17s 109ms/step - loss: 0.2774 - val_loss: 0.2425\n",
      "Epoch 15/120\n",
      "160/160 [==============================] - 16s 103ms/step - loss: 0.3002 - val_loss: 0.2932\n",
      "Epoch 16/120\n",
      "160/160 [==============================] - 17s 104ms/step - loss: 0.2561 - val_loss: 0.2648\n",
      "Epoch 17/120\n",
      "160/160 [==============================] - 17s 103ms/step - loss: 0.2665 - val_loss: 0.2270\n",
      "Epoch 18/120\n",
      "160/160 [==============================] - 17s 109ms/step - loss: 0.2625 - val_loss: 0.2309\n",
      "Epoch 19/120\n",
      "160/160 [==============================] - 16s 103ms/step - loss: 0.2788 - val_loss: 0.2468\n",
      "Epoch 20/120\n",
      "160/160 [==============================] - 16s 103ms/step - loss: 0.2595 - val_loss: 0.2433\n",
      "Epoch 21/120\n",
      "160/160 [==============================] - 16s 103ms/step - loss: 0.2778 - val_loss: 0.2414\n",
      "Epoch 22/120\n",
      "160/160 [==============================] - 17s 108ms/step - loss: 0.2757 - val_loss: 0.2266\n",
      "Epoch 23/120\n",
      "160/160 [==============================] - 17s 104ms/step - loss: 0.2671 - val_loss: 0.2395\n",
      "Epoch 24/120\n",
      "160/160 [==============================] - 17s 104ms/step - loss: 0.2633 - val_loss: 0.2355\n",
      "\n",
      "Epoch 00024: ReduceLROnPlateau reducing learning rate to 4.999999873689376e-05.\n",
      "Epoch 25/120\n",
      "160/160 [==============================] - 16s 102ms/step - loss: 0.2577 - val_loss: 0.2853\n",
      "Epoch 26/120\n",
      "160/160 [==============================] - 17s 108ms/step - loss: 0.2744 - val_loss: 0.2458\n",
      "Epoch 27/120\n",
      "160/160 [==============================] - 16s 103ms/step - loss: 0.2392 - val_loss: 0.2434\n",
      "Epoch 28/120\n",
      "160/160 [==============================] - 17s 103ms/step - loss: 0.2655 - val_loss: 0.2496\n",
      "Epoch 29/120\n",
      "160/160 [==============================] - 16s 103ms/step - loss: 0.2553 - val_loss: 0.2365\n",
      "Epoch 30/120\n",
      "160/160 [==============================] - 17s 108ms/step - loss: 0.2508 - val_loss: 0.2147\n",
      "Epoch 31/120\n",
      "160/160 [==============================] - 17s 104ms/step - loss: 0.2678 - val_loss: 0.2221\n",
      "Epoch 32/120\n",
      "160/160 [==============================] - 16s 102ms/step - loss: 0.2462 - val_loss: 0.2202\n",
      "Epoch 33/120\n",
      "160/160 [==============================] - 16s 103ms/step - loss: 0.2458 - val_loss: 0.2494\n",
      "Epoch 34/120\n",
      "160/160 [==============================] - 17s 109ms/step - loss: 0.2507 - val_loss: 0.2194\n",
      "Epoch 35/120\n",
      "160/160 [==============================] - 16s 103ms/step - loss: 0.2757 - val_loss: 0.2334\n",
      "Epoch 36/120\n",
      "160/160 [==============================] - 16s 103ms/step - loss: 0.2296 - val_loss: 0.2745\n",
      "Epoch 37/120\n",
      "160/160 [==============================] - 16s 103ms/step - loss: 0.2571 - val_loss: 0.2337\n",
      "\n",
      "Epoch 00037: ReduceLROnPlateau reducing learning rate to 2.499999936844688e-05.\n",
      "Epoch 38/120\n",
      "160/160 [==============================] - 17s 109ms/step - loss: 0.2465 - val_loss: 0.2205\n",
      "Epoch 39/120\n",
      "160/160 [==============================] - 16s 103ms/step - loss: 0.2461 - val_loss: 0.2190\n",
      "Epoch 40/120\n",
      "160/160 [==============================] - 16s 103ms/step - loss: 0.2492 - val_loss: 0.2329\n",
      "Epoch 41/120\n",
      "160/160 [==============================] - 17s 103ms/step - loss: 0.2481 - val_loss: 0.2225\n",
      "Epoch 42/120\n",
      "160/160 [==============================] - 17s 109ms/step - loss: 0.2492 - val_loss: 0.2160\n",
      "Epoch 43/120\n",
      "160/160 [==============================] - 17s 104ms/step - loss: 0.2585 - val_loss: 0.2202\n",
      "Epoch 44/120\n",
      "160/160 [==============================] - 17s 104ms/step - loss: 0.2311 - val_loss: 0.2454\n",
      "\n",
      "Epoch 00044: ReduceLROnPlateau reducing learning rate to 1.249999968422344e-05.\n",
      "Epoch 45/120\n",
      "160/160 [==============================] - 17s 103ms/step - loss: 0.2438 - val_loss: 0.2461\n",
      "Epoch 46/120\n",
      "160/160 [==============================] - 17s 108ms/step - loss: 0.2466 - val_loss: 0.1992\n",
      "Epoch 47/120\n",
      "160/160 [==============================] - 16s 103ms/step - loss: 0.2407 - val_loss: 0.2181\n",
      "Epoch 48/120\n",
      "160/160 [==============================] - 16s 103ms/step - loss: 0.2402 - val_loss: 0.2280\n",
      "Epoch 49/120\n",
      "160/160 [==============================] - 17s 103ms/step - loss: 0.2480 - val_loss: 0.2520\n",
      "Epoch 50/120\n",
      "160/160 [==============================] - 17s 108ms/step - loss: 0.2455 - val_loss: 0.2134\n",
      "Epoch 51/120\n",
      "160/160 [==============================] - 16s 103ms/step - loss: 0.2538 - val_loss: 0.2176\n",
      "Epoch 52/120\n",
      "160/160 [==============================] - 16s 103ms/step - loss: 0.2257 - val_loss: 0.2330\n",
      "Epoch 53/120\n",
      "160/160 [==============================] - 16s 103ms/step - loss: 0.2413 - val_loss: 0.2186\n",
      "\n",
      "Epoch 00053: ReduceLROnPlateau reducing learning rate to 6.24999984211172e-06.\n",
      "Epoch 54/120\n",
      "160/160 [==============================] - 17s 109ms/step - loss: 0.2449 - val_loss: 0.2020\n",
      "Epoch 55/120\n",
      "160/160 [==============================] - 16s 103ms/step - loss: 0.2431 - val_loss: 0.2167\n",
      "Epoch 56/120\n",
      "160/160 [==============================] - 16s 102ms/step - loss: 0.2413 - val_loss: 0.2255\n",
      "Epoch 57/120\n",
      "160/160 [==============================] - 17s 103ms/step - loss: 0.2341 - val_loss: 0.2349\n",
      "Epoch 58/120\n",
      "160/160 [==============================] - 17s 108ms/step - loss: 0.2490 - val_loss: 0.2026\n",
      "Epoch 59/120\n",
      "160/160 [==============================] - 17s 103ms/step - loss: 0.2425 - val_loss: 0.2163\n",
      "Epoch 60/120\n",
      "160/160 [==============================] - 17s 105ms/step - loss: 0.2360 - val_loss: 0.2445\n",
      "\n",
      "Epoch 00060: ReduceLROnPlateau reducing learning rate to 3.12499992105586e-06.\n",
      "Epoch 61/120\n",
      "160/160 [==============================] - 16s 103ms/step - loss: 0.2401 - val_loss: 0.2090\n",
      "Epoch 62/120\n",
      "160/160 [==============================] - 17s 107ms/step - loss: 0.2485 - val_loss: 0.2073\n",
      "Epoch 63/120\n",
      "160/160 [==============================] - 16s 103ms/step - loss: 0.2368 - val_loss: 0.2169\n",
      "Epoch 64/120\n",
      "160/160 [==============================] - 16s 103ms/step - loss: 0.2350 - val_loss: 0.2295\n",
      "Epoch 00064: early stopping\n"
     ]
    },
    {
     "data": {
      "text/plain": [
       "<keras.callbacks.History at 0x7f0436a67e48>"
      ]
     },
     "execution_count": 338,
     "metadata": {},
     "output_type": "execute_result"
    }
   ],
   "source": [
    "optimizer = Adam(lr=0.0001, beta_1=0.9, beta_2=0.999, epsilon=None, decay=0.0, amsgrad=False)\n",
    "model.compile(optimizer=optimizer, loss='mean_absolute_error')\n",
    "#model.fit(x=[data_np,mask_np], y=ground_truth_np, batch_size=1, epochs=10, verbose=1, validation_split=0.1, shuffle=True,callbacks = callbacks)\n",
    "\n",
    "\n",
    "model.fit_generator(train_generator, steps_per_epoch=split_point , validation_data=val_generator, validation_steps = 200-split_point, epochs=120, callbacks=callbacks, verbose = 1)"
   ]
  },
  {
   "cell_type": "code",
   "execution_count": 339,
   "metadata": {},
   "outputs": [
    {
     "name": "stdout",
     "output_type": "stream",
     "text": [
      "40\n",
      "40\n"
     ]
    }
   ],
   "source": [
    "result = []\n",
    "result_dense = []\n",
    "tmp_res = skimage.io.imread(disp_path_list[i]).astype('uint16')/256.0\n",
    "tmp_res = np.zeros_like(tmp_res)\n",
    "tmp_sde = np.zeros_like(tmp_res)\n",
    "tmp_gt = np.zeros_like(tmp_res)\n",
    "for i in range(200-split_point):\n",
    "    mask_r = mask_np_v[i][newaxis,:,:,:]>-1\n",
    "    tmp_r = model.predict([data_np_v[i][newaxis,:,:,:],mask_np_v[i][newaxis,:,:,:]], verbose=0, steps=None)\n",
    "    tmp_r_dense = model.predict([data_np_v[i][newaxis,:,:,:],mask_r], verbose=0, steps=None)\n",
    "    tmp_res[topMargin:-botMargin, leftMargin:-rightMargin] = tmp_r_dense[0,:,:,0]\n",
    "    tmp_gt[topMargin:-botMargin, leftMargin:-rightMargin] = ground_truth_np_v[i][:,:,0]\n",
    "    tmp_sde[topMargin:-botMargin, leftMargin:-rightMargin] = data_np_v[i][:,:,-1]\n",
    "    \n",
    "    skimage.io.imsave('./val_Results_4layers/val_'+str(i)+'_pnn.png',(tmp_res*256).astype('uint16'))\n",
    "    skimage.io.imsave('./val_Results_4layers/val_'+str(i)+'_gt.png',(tmp_gt*256).astype('uint16'))\n",
    "    skimage.io.imsave('./val_Results_4layers/val_'+str(i)+'_sde.png',(tmp_sde*256).astype('uint16'))\n",
    "    \n",
    "    result.append(tmp_r)\n",
    "    result_dense.append(tmp_r_dense)\n",
    "    \n",
    "print(len(result))\n",
    "print(len(result_dense))"
   ]
  },
  {
   "cell_type": "code",
   "execution_count": null,
   "metadata": {},
   "outputs": [],
   "source": []
  },
  {
   "cell_type": "code",
   "execution_count": null,
   "metadata": {},
   "outputs": [],
   "source": []
  },
  {
   "cell_type": "code",
   "execution_count": null,
   "metadata": {},
   "outputs": [],
   "source": []
  },
  {
   "cell_type": "code",
   "execution_count": null,
   "metadata": {},
   "outputs": [],
   "source": []
  },
  {
   "cell_type": "code",
   "execution_count": null,
   "metadata": {},
   "outputs": [],
   "source": []
  },
  {
   "cell_type": "markdown",
   "metadata": {},
   "source": [
    "# original 3 layers"
   ]
  },
  {
   "cell_type": "code",
   "execution_count": 257,
   "metadata": {},
   "outputs": [
    {
     "name": "stdout",
     "output_type": "stream",
     "text": [
      "__________________________________________________________________________________________________\n",
      "Layer (type)                    Output Shape         Param #     Connected to                     \n",
      "==================================================================================================\n",
      "input_image (InputLayer)        (None, None, None, 1 0                                            \n",
      "__________________________________________________________________________________________________\n",
      "L1 (Conv2D)                     (None, None, None, 6 40832       input_image[0][0]                \n",
      "__________________________________________________________________________________________________\n",
      "L2 (Conv2D)                     (None, None, None, 3 51232       L1[0][0]                         \n",
      "__________________________________________________________________________________________________\n",
      "mask (InputLayer)               (None, None, None, 1 0                                            \n",
      "__________________________________________________________________________________________________\n",
      "L3 (Conv2D)                     (None, None, None, 1 289         L2[0][0]                         \n",
      "__________________________________________________________________________________________________\n",
      "mask_out (Multiply)             (None, None, None, 1 0           mask[0][0]                       \n",
      "                                                                 L3[0][0]                         \n",
      "==================================================================================================\n",
      "Total params: 92,353\n",
      "Trainable params: 92,353\n",
      "Non-trainable params: 0\n",
      "__________________________________________________________________________________________________\n"
     ]
    }
   ],
   "source": [
    "# model #glorot_uniform  -> 180\n",
    "input_shape_c = (None, None,13)\n",
    "input_shape = (None, None,1)\n",
    "\n",
    "input_image  = Input(shape=input_shape_c,name='input_image')\n",
    "mask = Input(shape=input_shape,name='mask')\n",
    "\n",
    "\n",
    "conv1 = Conv2D(filters = 64, kernel_size=(7,7), strides=(1,1), padding=\"same\", activation=\"relu\",name='L1',kernel_initializer='glorot_uniform')(input_image)\n",
    "conv1 = Conv2D(filters = 32, kernel_size=(5,5), strides=(1,1), padding=\"same\", activation=\"relu\",name='L2',kernel_initializer='glorot_uniform')(conv1)\n",
    "conv1 = Conv2D(filters = 1, kernel_size=(3,3), strides=(1,1), padding=\"same\", activation=\"relu\",name='L3',kernel_initializer='glorot_uniform')(conv1)\n",
    "\n",
    "\n",
    "mask_out = Multiply(name='mask_out')([mask,conv1])\n",
    "\n",
    "model = Model(inputs=[input_image,mask], outputs=mask_out)\n",
    "model.summary()\n"
   ]
  },
  {
   "cell_type": "code",
   "execution_count": 258,
   "metadata": {},
   "outputs": [],
   "source": [
    "callbacks = [EarlyStopping(monitor='val_loss',\n",
    "                           patience=18,\n",
    "                           verbose=1,\n",
    "                           min_delta=1e-3),\n",
    "             ReduceLROnPlateau(monitor='val_loss',\n",
    "                               factor=0.5,\n",
    "                               patience=7,\n",
    "                               verbose=1,\n",
    "                               min_delta=1e-3),\n",
    "            ]\n",
    "\n"
   ]
  },
  {
   "cell_type": "code",
   "execution_count": 288,
   "metadata": {},
   "outputs": [
    {
     "name": "stdout",
     "output_type": "stream",
     "text": [
      "Epoch 1/120\n",
      "160/160 [==============================] - 19s 119ms/step - loss: 0.2886 - val_loss: 0.2278\n",
      "Epoch 2/120\n",
      "160/160 [==============================] - 19s 118ms/step - loss: 0.2485 - val_loss: 0.2853\n",
      "Epoch 3/120\n",
      "160/160 [==============================] - 19s 119ms/step - loss: 0.2475 - val_loss: 0.2454\n",
      "Epoch 4/120\n",
      "160/160 [==============================] - 20s 124ms/step - loss: 0.2612 - val_loss: 0.2422\n",
      "Epoch 5/120\n",
      "160/160 [==============================] - 19s 120ms/step - loss: 0.2604 - val_loss: 0.2272\n",
      "Epoch 6/120\n",
      "160/160 [==============================] - 19s 119ms/step - loss: 0.2604 - val_loss: 0.2951\n",
      "Epoch 7/120\n",
      "160/160 [==============================] - 19s 119ms/step - loss: 0.2654 - val_loss: 0.2533\n",
      "Epoch 8/120\n",
      "160/160 [==============================] - 20s 126ms/step - loss: 0.2541 - val_loss: 0.2126\n",
      "Epoch 9/120\n",
      "160/160 [==============================] - 19s 120ms/step - loss: 0.2698 - val_loss: 0.2360\n",
      "Epoch 10/120\n",
      "160/160 [==============================] - 19s 120ms/step - loss: 0.2600 - val_loss: 0.2679\n",
      "Epoch 11/120\n",
      "160/160 [==============================] - 19s 119ms/step - loss: 0.2619 - val_loss: 0.2084\n",
      "Epoch 12/120\n",
      "160/160 [==============================] - 20s 125ms/step - loss: 0.2561 - val_loss: 0.2167\n",
      "Epoch 13/120\n",
      "160/160 [==============================] - 19s 120ms/step - loss: 0.2786 - val_loss: 0.2484\n",
      "Epoch 14/120\n",
      "160/160 [==============================] - 19s 120ms/step - loss: 0.2760 - val_loss: 0.2784\n",
      "Epoch 15/120\n",
      "160/160 [==============================] - 19s 119ms/step - loss: 0.2654 - val_loss: 0.2472\n",
      "Epoch 16/120\n",
      "160/160 [==============================] - 20s 125ms/step - loss: 0.2683 - val_loss: 0.2138\n",
      "Epoch 17/120\n",
      "160/160 [==============================] - 19s 119ms/step - loss: 0.2652 - val_loss: 0.2303\n",
      "Epoch 18/120\n",
      "160/160 [==============================] - 19s 120ms/step - loss: 0.2487 - val_loss: 0.2410\n",
      "\n",
      "Epoch 00018: ReduceLROnPlateau reducing learning rate to 4.999999873689376e-05.\n",
      "Epoch 19/120\n",
      "160/160 [==============================] - 19s 120ms/step - loss: 0.2513 - val_loss: 0.2284\n",
      "Epoch 20/120\n",
      "160/160 [==============================] - 20s 124ms/step - loss: 0.2449 - val_loss: 0.2082\n",
      "Epoch 21/120\n",
      "160/160 [==============================] - 19s 119ms/step - loss: 0.2464 - val_loss: 0.2340\n",
      "Epoch 22/120\n",
      "160/160 [==============================] - 19s 121ms/step - loss: 0.2692 - val_loss: 0.2384\n",
      "Epoch 23/120\n",
      "160/160 [==============================] - 19s 120ms/step - loss: 0.2278 - val_loss: 0.2395\n",
      "Epoch 24/120\n",
      "160/160 [==============================] - 20s 125ms/step - loss: 0.2515 - val_loss: 0.1857\n",
      "Epoch 25/120\n",
      "160/160 [==============================] - 19s 119ms/step - loss: 0.2439 - val_loss: 0.2269\n",
      "Epoch 26/120\n",
      "160/160 [==============================] - 19s 119ms/step - loss: 0.2472 - val_loss: 0.2574\n",
      "Epoch 27/120\n",
      "160/160 [==============================] - 19s 120ms/step - loss: 0.2437 - val_loss: 0.2191\n",
      "Epoch 28/120\n",
      "160/160 [==============================] - 20s 126ms/step - loss: 0.2514 - val_loss: 0.2134\n",
      "Epoch 29/120\n",
      "160/160 [==============================] - 19s 119ms/step - loss: 0.2451 - val_loss: 0.2231\n",
      "Epoch 30/120\n",
      "160/160 [==============================] - 19s 120ms/step - loss: 0.2538 - val_loss: 0.2502\n",
      "Epoch 31/120\n",
      "160/160 [==============================] - 19s 120ms/step - loss: 0.2589 - val_loss: 0.2214\n",
      "\n",
      "Epoch 00031: ReduceLROnPlateau reducing learning rate to 2.499999936844688e-05.\n",
      "Epoch 32/120\n",
      "160/160 [==============================] - 20s 125ms/step - loss: 0.2278 - val_loss: 0.2184\n",
      "Epoch 33/120\n",
      "160/160 [==============================] - 19s 118ms/step - loss: 0.2425 - val_loss: 0.2158\n",
      "Epoch 34/120\n",
      "160/160 [==============================] - 19s 120ms/step - loss: 0.2401 - val_loss: 0.2293\n",
      "Epoch 35/120\n",
      "160/160 [==============================] - 19s 119ms/step - loss: 0.2415 - val_loss: 0.2187\n",
      "Epoch 36/120\n",
      "160/160 [==============================] - 20s 125ms/step - loss: 0.2386 - val_loss: 0.2121\n",
      "Epoch 37/120\n",
      "160/160 [==============================] - 19s 119ms/step - loss: 0.2415 - val_loss: 0.2174\n",
      "Epoch 38/120\n",
      "160/160 [==============================] - 19s 120ms/step - loss: 0.2429 - val_loss: 0.2272\n",
      "\n",
      "Epoch 00038: ReduceLROnPlateau reducing learning rate to 1.249999968422344e-05.\n",
      "Epoch 39/120\n",
      "160/160 [==============================] - 19s 119ms/step - loss: 0.2392 - val_loss: 0.2445\n",
      "Epoch 40/120\n",
      "160/160 [==============================] - 20s 125ms/step - loss: 0.2546 - val_loss: 0.2085\n",
      "Epoch 41/120\n",
      "160/160 [==============================] - 19s 119ms/step - loss: 0.2258 - val_loss: 0.2146\n",
      "Epoch 42/120\n",
      "160/160 [==============================] - 19s 119ms/step - loss: 0.2355 - val_loss: 0.2274\n",
      "Epoch 00042: early stopping\n"
     ]
    },
    {
     "data": {
      "text/plain": [
       "<keras.callbacks.History at 0x7f043714ef60>"
      ]
     },
     "execution_count": 288,
     "metadata": {},
     "output_type": "execute_result"
    }
   ],
   "source": [
    "optimizer = Adam(lr=0.0001, beta_1=0.9, beta_2=0.999, epsilon=None, decay=0.0, amsgrad=False)\n",
    "model.compile(optimizer=optimizer, loss='mean_absolute_error')\n",
    "#model.fit(x=[data_np,mask_np], y=ground_truth_np, batch_size=1, epochs=10, verbose=1, validation_split=0.1, shuffle=True,callbacks = callbacks)\n",
    "\n",
    "\n",
    "model.fit_generator(train_generator, steps_per_epoch=split_point , validation_data=val_generator, validation_steps = 200-split_point, epochs=120, callbacks=callbacks, verbose = 1)\n",
    "\n"
   ]
  },
  {
   "cell_type": "code",
   "execution_count": 335,
   "metadata": {},
   "outputs": [
    {
     "name": "stdout",
     "output_type": "stream",
     "text": [
      "40\n",
      "40\n"
     ]
    }
   ],
   "source": [
    "result = []\n",
    "result_dense = []\n",
    "tmp_res = skimage.io.imread(disp_path_list[i]).astype('uint16')/256.0\n",
    "tmp_res = np.zeros_like(tmp_res)\n",
    "tmp_sde = np.zeros_like(tmp_res)\n",
    "tmp_gt = np.zeros_like(tmp_res)\n",
    "for i in range(200-split_point):\n",
    "    mask_r = mask_np_v[i][newaxis,:,:,:]>-1\n",
    "    tmp_r = model.predict([data_np_v[i][newaxis,:,:,:],mask_np_v[i][newaxis,:,:,:]], verbose=0, steps=None)\n",
    "    tmp_r_dense = model.predict([data_np_v[i][newaxis,:,:,:],mask_r], verbose=0, steps=None)\n",
    "    tmp_res[topMargin:-botMargin, leftMargin:-rightMargin] = tmp_r_dense[0,:,:,0]\n",
    "    tmp_gt[topMargin:-botMargin, leftMargin:-rightMargin] = ground_truth_np_v[i][:,:,0]\n",
    "    tmp_sde[topMargin:-botMargin, leftMargin:-rightMargin] = data_np_v[i][:,:,-1]\n",
    "    \n",
    "    skimage.io.imsave('./val_Results/val_'+str(i)+'_pnn.png',(tmp_res*256).astype('uint16'))\n",
    "    skimage.io.imsave('./val_Results/val_'+str(i)+'_gt.png',(tmp_gt*256).astype('uint16'))\n",
    "    skimage.io.imsave('./val_Results/val_'+str(i)+'_sde.png',(tmp_sde*256).astype('uint16'))\n",
    "    \n",
    "    result.append(tmp_r)\n",
    "    result_dense.append(tmp_r_dense)\n",
    "    \n",
    "print(len(result))\n",
    "print(len(result_dense))"
   ]
  },
  {
   "cell_type": "code",
   "execution_count": null,
   "metadata": {},
   "outputs": [],
   "source": []
  },
  {
   "cell_type": "code",
   "execution_count": 334,
   "metadata": {},
   "outputs": [
    {
     "name": "stdout",
     "output_type": "stream",
     "text": [
      "(367, 1105)\n"
     ]
    }
   ],
   "source": [
    "print (tmp_r_dense[0,:,:,0].shape)"
   ]
  },
  {
   "cell_type": "code",
   "execution_count": null,
   "metadata": {},
   "outputs": [],
   "source": []
  },
  {
   "cell_type": "code",
   "execution_count": 328,
   "metadata": {},
   "outputs": [
    {
     "name": "stdout",
     "output_type": "stream",
     "text": [
      "(375, 1240)\n"
     ]
    }
   ],
   "source": [
    "tmp_res = skimage.io.imread(disp_path_list[i]).astype('uint16')/256.0\n",
    "tmp_res = np.zeros_like(tmp_res)\n",
    "print (tmp_res.shape)"
   ]
  },
  {
   "cell_type": "code",
   "execution_count": null,
   "metadata": {},
   "outputs": [],
   "source": []
  },
  {
   "cell_type": "code",
   "execution_count": null,
   "metadata": {},
   "outputs": [],
   "source": []
  },
  {
   "cell_type": "markdown",
   "metadata": {},
   "source": [
    "# show some ex results"
   ]
  },
  {
   "cell_type": "code",
   "execution_count": 290,
   "metadata": {},
   "outputs": [
    {
     "data": {
      "text/plain": [
       "(1, 367, 1105, 1)"
      ]
     },
     "execution_count": 290,
     "metadata": {},
     "output_type": "execute_result"
    }
   ],
   "source": [
    "result[0].shape"
   ]
  },
  {
   "cell_type": "code",
   "execution_count": 291,
   "metadata": {},
   "outputs": [
    {
     "data": {
      "text/plain": [
       "(367, 1105, 1)"
      ]
     },
     "execution_count": 291,
     "metadata": {},
     "output_type": "execute_result"
    }
   ],
   "source": [
    "result[0][0].shape"
   ]
  },
  {
   "cell_type": "code",
   "execution_count": null,
   "metadata": {},
   "outputs": [],
   "source": []
  },
  {
   "cell_type": "code",
   "execution_count": 319,
   "metadata": {},
   "outputs": [],
   "source": [
    "index = 17"
   ]
  },
  {
   "cell_type": "code",
   "execution_count": 320,
   "metadata": {},
   "outputs": [
    {
     "data": {
      "text/plain": [
       "<matplotlib.image.AxesImage at 0x7f0436b67898>"
      ]
     },
     "execution_count": 320,
     "metadata": {},
     "output_type": "execute_result"
    },
    {
     "data": {
      "image/png": "[encoded data removed]",
      "text/plain": [
       "<Figure size 432x288 with 1 Axes>"
      ]
     },
     "metadata": {},
     "output_type": "display_data"
    }
   ],
   "source": [
    "plt.imshow(result[index][0][:,:,0])"
   ]
  },
  {
   "cell_type": "code",
   "execution_count": null,
   "metadata": {},
   "outputs": [],
   "source": []
  },
  {
   "cell_type": "code",
   "execution_count": null,
   "metadata": {},
   "outputs": [],
   "source": []
  },
  {
   "cell_type": "code",
   "execution_count": 321,
   "metadata": {},
   "outputs": [
    {
     "data": {
      "text/plain": [
       "<matplotlib.image.AxesImage at 0x7f0436b1ae48>"
      ]
     },
     "execution_count": 321,
     "metadata": {},
     "output_type": "execute_result"
    },
    {
     "data": {
      "image/png": "[encoded data removed]",
      "text/plain": [
       "<Figure size 432x288 with 1 Axes>"
      ]
     },
     "metadata": {},
     "output_type": "display_data"
    }
   ],
   "source": [
    "plt.imshow(ground_truth_np_v[index][:,:,0])"
   ]
  },
  {
   "cell_type": "code",
   "execution_count": 322,
   "metadata": {},
   "outputs": [
    {
     "name": "stdout",
     "output_type": "stream",
     "text": [
      "66.1573638916\n"
     ]
    }
   ],
   "source": [
    "#print ((result[index][0][:,:,0]-ground_truth_np_v[index][:,:,0]).max())\n",
    "print ((abs(result[index][0][:,:,0]-ground_truth_np_v[index][:,:,0])*(ground_truth_np_v[index][:,:,0]>0)).max())"
   ]
  },
  {
   "cell_type": "code",
   "execution_count": 323,
   "metadata": {},
   "outputs": [
    {
     "data": {
      "text/plain": [
       "<matplotlib.image.AxesImage at 0x7f0436ad25f8>"
      ]
     },
     "execution_count": 323,
     "metadata": {},
     "output_type": "execute_result"
    },
    {
     "data": {
      "image/png": "[encoded data removed]",
      "text/plain": [
       "<Figure size 432x288 with 1 Axes>"
      ]
     },
     "metadata": {},
     "output_type": "display_data"
    }
   ],
   "source": [
    "plt.imshow(result_dense[index][0][:,:,0])"
   ]
  },
  {
   "cell_type": "code",
   "execution_count": 324,
   "metadata": {},
   "outputs": [
    {
     "data": {
      "text/plain": [
       "<matplotlib.image.AxesImage at 0x7f0436b04ba8>"
      ]
     },
     "execution_count": 324,
     "metadata": {},
     "output_type": "execute_result"
    },
    {
     "data": {
      "image/png": "[encoded data removed]",
      "text/plain": [
       "<Figure size 432x288 with 1 Axes>"
      ]
     },
     "metadata": {},
     "output_type": "display_data"
    }
   ],
   "source": [
    "plt.imshow(data_np_v[index][:,:,-1])"
   ]
  },
  {
   "cell_type": "code",
   "execution_count": 298,
   "metadata": {},
   "outputs": [
    {
     "name": "stdout",
     "output_type": "stream",
     "text": [
      "115.9140625\n"
     ]
    }
   ],
   "source": [
    "print ((abs(data_np_v[index][:,:,-1]-ground_truth_np_v[index][:,:,0])*(ground_truth_np_v[index][:,:,0]>0)).max())"
   ]
  },
  {
   "cell_type": "code",
   "execution_count": 299,
   "metadata": {},
   "outputs": [
    {
     "name": "stdout",
     "output_type": "stream",
     "text": [
      "[[  16.6875       16.6875       16.5625     ...,   21.6875       22.0625\n",
      "    22.5       ]\n",
      " [  16.3125       16.1875       16.1875     ...,   20.1875       20.6875\n",
      "    21.5625    ]\n",
      " [  15.875        15.875        15.9375     ...,   23.875        27.3125\n",
      "    27.1875    ]\n",
      " ..., \n",
      " [  61.0625        0.5625       60.9375     ...,   55.0625       55.8125\n",
      "    54.875     ]\n",
      " [   0.296875     61.5           1.30859375 ...,   54.8125       55.1875\n",
      "   118.1875    ]\n",
      " [   1.1796875    61.5625       61.6875     ...,   21.8125       54.8125\n",
      "   117.1875    ]]\n"
     ]
    }
   ],
   "source": [
    "print ((abs(data_np_v[index][:,:,-1]-ground_truth_np_v[index][:,:,0])))"
   ]
  },
  {
   "cell_type": "code",
   "execution_count": 300,
   "metadata": {},
   "outputs": [
    {
     "data": {
      "text/plain": [
       "<matplotlib.image.AxesImage at 0x7f0436e475c0>"
      ]
     },
     "execution_count": 300,
     "metadata": {},
     "output_type": "execute_result"
    },
    {
     "data": {
      "image/png": "[encoded data removed]",
      "text/plain": [
       "<Figure size 432x288 with 1 Axes>"
      ]
     },
     "metadata": {},
     "output_type": "display_data"
    }
   ],
   "source": [
    "plt.imshow((abs(data_np_v[index][:,:,-1]-ground_truth_np_v[index][:,:,0])))"
   ]
  },
  {
   "cell_type": "code",
   "execution_count": 272,
   "metadata": {},
   "outputs": [
    {
     "name": "stdout",
     "output_type": "stream",
     "text": [
      "127.0\n"
     ]
    }
   ],
   "source": [
    "print(data_np_v[index][100:-100,100:-100,-1].max())"
   ]
  },
  {
   "cell_type": "code",
   "execution_count": 273,
   "metadata": {},
   "outputs": [
    {
     "name": "stdout",
     "output_type": "stream",
     "text": [
      "43.20703125\n"
     ]
    }
   ],
   "source": [
    "print (ground_truth_np_v[index][100:-100,100:-100,0].max())"
   ]
  },
  {
   "cell_type": "code",
   "execution_count": null,
   "metadata": {},
   "outputs": [],
   "source": []
  },
  {
   "cell_type": "code",
   "execution_count": null,
   "metadata": {},
   "outputs": [],
   "source": []
  },
  {
   "cell_type": "code",
   "execution_count": null,
   "metadata": {},
   "outputs": [],
   "source": []
  },
  {
   "cell_type": "code",
   "execution_count": null,
   "metadata": {},
   "outputs": [],
   "source": []
  },
  {
   "cell_type": "code",
   "execution_count": null,
   "metadata": {},
   "outputs": [],
   "source": []
  },
  {
   "cell_type": "code",
   "execution_count": null,
   "metadata": {},
   "outputs": [],
   "source": []
  },
  {
   "cell_type": "code",
   "execution_count": null,
   "metadata": {},
   "outputs": [],
   "source": []
  },
  {
   "cell_type": "code",
   "execution_count": null,
   "metadata": {},
   "outputs": [],
   "source": []
  },
  {
   "cell_type": "markdown",
   "metadata": {},
   "source": [
    "# dummy"
   ]
  },
  {
   "cell_type": "code",
   "execution_count": 37,
   "metadata": {},
   "outputs": [
    {
     "name": "stdout",
     "output_type": "stream",
     "text": [
      "65.169 laaala\n"
     ]
    }
   ],
   "source": [
    "print(tmp_ground_true.max(),'laaala')\n",
    "\n"
   ]
  },
  {
   "cell_type": "code",
   "execution_count": 38,
   "metadata": {},
   "outputs": [
    {
     "name": "stdout",
     "output_type": "stream",
     "text": [
      "(200, 375, 1240, 13)\n",
      "(200, 375, 1240, 1)\n",
      "(200, 375, 1240, 1)\n"
     ]
    }
   ],
   "source": [
    "data_np = np.array(data_list)\n",
    "ground_truth_np = np.array(ground_truth_list)\n",
    "mask_np = np.array(mask_list)\n",
    "print(data_np.shape)\n",
    "print(ground_truth_np.shape)\n",
    "print(mask_np.shape)"
   ]
  },
  {
   "cell_type": "code",
   "execution_count": 31,
   "metadata": {},
   "outputs": [
    {
     "name": "stdout",
     "output_type": "stream",
     "text": [
      "[[ 20.87531853  20.93782043  20.93782043  21.12532234]\n",
      " [ 20.93782043  21.12532234  21.12532234  21.18782425]\n",
      " [ 20.93782043  21.18782425  21.31282616  21.31282616]\n",
      " [ 21.12532234  21.12532234  21.12532234  21.12532234]]\n",
      "[[  0.          21.49642181  21.73470688   0.        ]\n",
      " [ 20.00421143  21.40266991  20.15265083  21.81674004]\n",
      " [ 21.71517563  21.76986313   0.          22.00424194]\n",
      " [  0.           0.           0.          21.86752129]]\n",
      "[[ 20.87531853   0.55860138   0.79688644  21.12532234]\n",
      " [  0.93360901   0.27734756   0.97267151   0.62891579]\n",
      " [  0.77735519   0.58203888  21.31282616   0.69141579]\n",
      " [ 21.12532234  21.12532234  21.12532234   0.74219894]]\n"
     ]
    }
   ],
   "source": [
    "a = abs(tmp_disp-tmp_gt)\n",
    "print(tmp_disp[200:204,790:794])\n",
    "print (tmp_gt[200:204,790:794])\n",
    "print(a[200:204,790:794])"
   ]
  },
  {
   "cell_type": "code",
   "execution_count": 3,
   "metadata": {
    "collapsed": true
   },
   "outputs": [],
   "source": [
    "# get ground truth disparity file list\n",
    "path_ground_truth = './training'\n",
    "training_data_folder_path_list= glob.glob('./training/*')\n",
    "training_data_folder_path_list.sort()\n",
    "# get disparity file list for to be stacked method\n",
    "disp_path_eth_list= glob.glob('./InitialResults/training_res_ETHfinetune/*')\n",
    "disp_path_eth_list.sort()\n",
    "\n",
    "disp_path_kitti_list= glob.glob('./InitialResults/training_res_Kittifinetune/*')\n",
    "disp_path_kitti_list.sort()\n",
    "\n",
    "disp_path_mixed_list= glob.glob('./InitialResults/training_res_mixedfinetune/*')\n",
    "disp_path_mixed_list.sort()\n",
    "\n",
    "edge_path_list = glob.glob('./edgesMask_training/*')\n",
    "edge_path_list.sort()\n"
   ]
  },
  {
   "cell_type": "code",
   "execution_count": 4,
   "metadata": {
    "collapsed": true
   },
   "outputs": [],
   "source": [
    "data_list = []\n",
    "ground_truth_list = []\n",
    "mask_list = []\n",
    "\n",
    "for j in range(len(training_data_folder_path_list)):\n",
    "    for i in range(len(disp_path_eth_list)):\n",
    "        count = 0 \n",
    "        #print(training_data_folder_path_list[j][11:],disp_path_eth_list[i][42:-4])\n",
    "        #break\n",
    "        if training_data_folder_path_list[j][11:] == disp_path_eth_list[i][42:-4]:\n",
    "            #tmp_disp_eth = plt.imread(disp_path_eth_list[i]) *255\n",
    "            count += 1\n",
    "        if training_data_folder_path_list[j][11:] == disp_path_kitti_list[i][44:-4]:\n",
    "            tmp_disp_kitti = plt.imread(disp_path_kitti_list[i])*255\n",
    "            count += 1\n",
    "        if training_data_folder_path_list[j][11:] == disp_path_mixed_list[i][44:-4]:\n",
    "            tmp_disp_mixed = plt.imread(disp_path_mixed_list[i])*255 \n",
    "            count += 1\n",
    "        \n",
    "        if training_data_folder_path_list[j][11:] == edge_path_list[i][26:-4]:\n",
    "            tmp_edge = plt.imread(edge_path_list[i])*255 \n",
    "            count += 1\n",
    "            \n",
    "            \n",
    "        if count > 3: \n",
    "            left_image = plt.imread(training_data_folder_path_list[j]+'/im0.png') \n",
    "            right_image = plt.imread(training_data_folder_path_list[j]+'/im1.png') \n",
    "            #warp_kitti = getWarpedImageWithBilinear(right_image,tmp_disp_kitti)\n",
    "            #warp_eth = getWarpedImageWithBilinear(right_image,tmp_disp_eth)\n",
    "            warp_mixed = getWarpedImageWithBilinear(right_image,tmp_disp_mixed)\n",
    "            \n",
    "            #tmp_combine = np.dstack((left_image,tmp_disp_kitti,tmp_disp_eth,tmp_disp_mixed))\n",
    "            #tmp_combine = np.dstack((left_image,tmp_disp_mixed))\n",
    "            #tmp_combine = np.dstack((left_image,tmp_disp_kitti,warp_kitti,tmp_disp_mixed,warp_mixed,tmp_disp_eth,warp_eth))\n",
    "            #tmp_combine = np.dstack((left_image,tmp_edge,tmp_disp_kitti,warp_kitti,tmp_disp_mixed,warp_mixed))\n",
    "            tmp_combine = np.dstack((left_image,tmp_edge,tmp_disp_mixed,warp_mixed))\n",
    "            \n",
    "            \n",
    "            data_list.append(tmp_combine)\n",
    "            tmp_ground_true,_ = readPFM(training_data_folder_path_list[j]+'/disp0GT.pfm')\n",
    "            ## remove inf\n",
    "            tmp_ground_true[tmp_ground_true == inf] =0 \n",
    "            ground_truth_list.append(tmp_ground_true[:,:, newaxis])\n",
    "            mask_list.append(((tmp_ground_true>0)*1.0)[:,:, newaxis])\n",
    "            break\n",
    "    #break"
   ]
  },
  {
   "cell_type": "code",
   "execution_count": 5,
   "metadata": {},
   "outputs": [
    {
     "name": "stdout",
     "output_type": "stream",
     "text": [
      "(242,)\n",
      "(242,)\n",
      "(242,)\n"
     ]
    }
   ],
   "source": [
    "data_np = np.array(data_list)\n",
    "ground_truth_np = np.array(ground_truth_list)\n",
    "mask_np = np.array(mask_list)\n",
    "print(data_np.shape)\n",
    "print(ground_truth_np.shape)\n",
    "print(mask_np.shape)"
   ]
  },
  {
   "cell_type": "code",
   "execution_count": 6,
   "metadata": {
    "collapsed": true
   },
   "outputs": [],
   "source": [
    "# check if any mismatch happened\n",
    "for i in range(242):\n",
    "    if data_np[i].shape[:2] != ground_truth_np[i].shape[:2] \\\n",
    "        or data_np[i].shape[:2] != mask_np[i].shape[:2] \\\n",
    "        or data_np[i].shape[:2] != mask_np[i].shape[:2]:\n",
    "        print(i)\n",
    "        print(data_np[i].shape)\n",
    "        print(ground_truth_np[i].shape)\n",
    "        print(mask_np[i].shape)"
   ]
  },
  {
   "cell_type": "code",
   "execution_count": 7,
   "metadata": {},
   "outputs": [
    {
     "name": "stdout",
     "output_type": "stream",
     "text": [
      "complete shuffling\n"
     ]
    }
   ],
   "source": [
    "from sklearn.utils import shuffle\n",
    "data_np, ground_truth_np, mask_np = shuffle(data_np, ground_truth_np, mask_np, random_state=42)\n",
    "print(\"complete shuffling\")"
   ]
  },
  {
   "cell_type": "code",
   "execution_count": 8,
   "metadata": {},
   "outputs": [
    {
     "name": "stdout",
     "output_type": "stream",
     "text": [
      "(438, 713, 8)\n"
     ]
    }
   ],
   "source": [
    "print(data_np[0].shape)"
   ]
  },
  {
   "cell_type": "code",
   "execution_count": null,
   "metadata": {},
   "outputs": [],
   "source": []
  },
  {
   "cell_type": "code",
   "execution_count": 9,
   "metadata": {
    "collapsed": true
   },
   "outputs": [],
   "source": [
    "\n",
    "split_point = 180\n",
    "\n",
    "data_np_t, ground_truth_np_t, mask_np_t = data_np[:split_point], ground_truth_np[:split_point], mask_np[:split_point]\n",
    "data_np_v, ground_truth_np_v, mask_np_v = data_np[split_point:], ground_truth_np[split_point:], mask_np[split_point:]\n",
    "\n"
   ]
  },
  {
   "cell_type": "code",
   "execution_count": 10,
   "metadata": {
    "collapsed": true
   },
   "outputs": [],
   "source": [
    "def generator_stack(data_np, ground_truth_np, mask_np):\n",
    "    num_samples = data_np.shape[0]\n",
    "    while 1: # Loop forever so the generator never terminates\n",
    "        #data, label =shuffle(data, label, random_state=33)\n",
    "        for offset in range(0, num_samples): \n",
    "            if offset == num_samples - 1:\n",
    "                data_np, ground_truth_np, mask_np = shuffle(data_np, ground_truth_np, mask_np, random_state=33)\n",
    "                yield [(data_np[offset])[newaxis,:,:,:],(mask_np[offset])[newaxis,:,:,:]],(ground_truth_np[offset])[newaxis,:,:,:]\n",
    "                break\n",
    "            #print(folder_path_list)\n",
    "            yield [(data_np[offset])[newaxis,:,:,:],(mask_np[offset])[newaxis,:,:,:]],(ground_truth_np[offset])[newaxis,:,:,:]\n",
    "            \n",
    "            \n",
    "            \n",
    "train_generator = generator_stack(data_np_t, ground_truth_np_t, mask_np_t)\n",
    "val_generator = generator_stack(data_np_v, ground_truth_np_v, mask_np_v)\n"
   ]
  },
  {
   "cell_type": "code",
   "execution_count": 11,
   "metadata": {},
   "outputs": [
    {
     "name": "stdout",
     "output_type": "stream",
     "text": [
      "ok\n"
     ]
    }
   ],
   "source": [
    "print('ok')"
   ]
  },
  {
   "cell_type": "code",
   "execution_count": null,
   "metadata": {
    "collapsed": true
   },
   "outputs": [],
   "source": []
  },
  {
   "cell_type": "markdown",
   "metadata": {},
   "source": [
    "# model "
   ]
  },
  {
   "cell_type": "code",
   "execution_count": 12,
   "metadata": {},
   "outputs": [
    {
     "name": "stderr",
     "output_type": "stream",
     "text": [
      "/opt/conda/lib/python3.6/site-packages/h5py/__init__.py:36: FutureWarning: Conversion of the second argument of issubdtype from `float` to `np.floating` is deprecated. In future, it will be treated as `np.float64 == np.dtype(float).type`.\n",
      "  from ._conv import register_converters as _register_converters\n",
      "Using TensorFlow backend.\n"
     ]
    }
   ],
   "source": [
    "from keras.models import Sequential, load_model, Model\n",
    "from keras.layers import Input,Activation,  Dense,Conv2D,Conv2DTranspose\n",
    "from keras.layers import GlobalAveragePooling2D,MaxPooling2D,BatchNormalization, Dropout\n",
    "from keras.layers import Add,Subtract,Multiply,Concatenate, Flatten, Lambda\n",
    "from keras.callbacks import EarlyStopping, ReduceLROnPlateau, ModelCheckpoint, TensorBoard\n",
    "from keras.optimizers import SGD\n",
    "from keras import backend as K\n",
    "from keras.models import load_model\n",
    "from keras.optimizers import Adam\n",
    "from keras.callbacks import EarlyStopping,ReduceLROnPlateau\n",
    "import tensorflow as tf\n",
    "from keras.utils import multi_gpu_model\n",
    "from keras.models import model_from_json"
   ]
  },
  {
   "cell_type": "code",
   "execution_count": 13,
   "metadata": {},
   "outputs": [
    {
     "name": "stdout",
     "output_type": "stream",
     "text": [
      "__________________________________________________________________________________________________\n",
      "Layer (type)                    Output Shape         Param #     Connected to                     \n",
      "==================================================================================================\n",
      "input_image (InputLayer)        (None, None, None, 8 0                                            \n",
      "__________________________________________________________________________________________________\n",
      "L1 (Conv2D)                     (None, None, None, 6 25152       input_image[0][0]                \n",
      "__________________________________________________________________________________________________\n",
      "L2 (Conv2D)                     (None, None, None, 3 51232       L1[0][0]                         \n",
      "__________________________________________________________________________________________________\n",
      "mask (InputLayer)               (None, None, None, 1 0                                            \n",
      "__________________________________________________________________________________________________\n",
      "L3 (Conv2D)                     (None, None, None, 1 289         L2[0][0]                         \n",
      "__________________________________________________________________________________________________\n",
      "mask_out (Multiply)             (None, None, None, 1 0           mask[0][0]                       \n",
      "                                                                 L3[0][0]                         \n",
      "==================================================================================================\n",
      "Total params: 76,673\n",
      "Trainable params: 76,673\n",
      "Non-trainable params: 0\n",
      "__________________________________________________________________________________________________\n"
     ]
    }
   ],
   "source": [
    "# model #glorot_uniform  -> 180\n",
    "input_shape_c = (None, None,8)\n",
    "input_shape = (None, None,1)\n",
    "\n",
    "input_image  = Input(shape=input_shape_c,name='input_image')\n",
    "mask = Input(shape=input_shape,name='mask')\n",
    "\n",
    "\n",
    "conv1 = Conv2D(filters = 64, kernel_size=(7,7), strides=(1,1), padding=\"same\", activation=\"relu\",name='L1',kernel_initializer='glorot_uniform')(input_image)\n",
    "conv1 = Conv2D(filters = 32, kernel_size=(5,5), strides=(1,1), padding=\"same\", activation=\"relu\",name='L2',kernel_initializer='glorot_uniform')(conv1)\n",
    "conv1 = Conv2D(filters = 1, kernel_size=(3,3), strides=(1,1), padding=\"same\", activation=\"relu\",name='L3',kernel_initializer='glorot_uniform')(conv1)\n",
    "\n",
    "\n",
    "mask_out = Multiply(name='mask_out')([mask,conv1])\n",
    "\n",
    "model = Model(inputs=[input_image,mask], outputs=mask_out)\n",
    "model.summary()\n",
    "\n"
   ]
  },
  {
   "cell_type": "code",
   "execution_count": 14,
   "metadata": {
    "collapsed": true
   },
   "outputs": [],
   "source": [
    "callbacks = [EarlyStopping(monitor='val_loss',\n",
    "                           patience=18,\n",
    "                           verbose=1,\n",
    "                           min_delta=1e-3),\n",
    "             ReduceLROnPlateau(monitor='val_loss',\n",
    "                               factor=0.5,\n",
    "                               patience=7,\n",
    "                               verbose=1,\n",
    "                               min_delta=1e-3),\n",
    "            ]\n"
   ]
  },
  {
   "cell_type": "code",
   "execution_count": 16,
   "metadata": {},
   "outputs": [
    {
     "name": "stdout",
     "output_type": "stream",
     "text": [
      "Epoch 1/120\n",
      "180/180 [==============================] - 12s 67ms/step - loss: 0.5139 - val_loss: 0.3154\n",
      "Epoch 2/120\n",
      "180/180 [==============================] - 12s 65ms/step - loss: 0.3278 - val_loss: 0.3291\n",
      "Epoch 3/120\n",
      "180/180 [==============================] - 12s 65ms/step - loss: 0.4264 - val_loss: 0.6244\n",
      "Epoch 4/120\n",
      "180/180 [==============================] - 12s 65ms/step - loss: 0.3367 - val_loss: 0.3109\n",
      "Epoch 5/120\n",
      "180/180 [==============================] - 12s 65ms/step - loss: 0.4117 - val_loss: 0.3193\n",
      "Epoch 6/120\n",
      "180/180 [==============================] - 12s 66ms/step - loss: 0.5542 - val_loss: 1.0462\n",
      "Epoch 7/120\n",
      "180/180 [==============================] - 12s 65ms/step - loss: 0.5207 - val_loss: 0.3832\n",
      "Epoch 8/120\n",
      "180/180 [==============================] - 12s 65ms/step - loss: 0.5273 - val_loss: 0.3521\n",
      "Epoch 9/120\n",
      "180/180 [==============================] - 12s 65ms/step - loss: 0.3372 - val_loss: 0.3128\n",
      "Epoch 10/120\n",
      "180/180 [==============================] - 12s 64ms/step - loss: 0.4635 - val_loss: 0.2766\n",
      "Epoch 11/120\n",
      "180/180 [==============================] - 12s 67ms/step - loss: 0.4531 - val_loss: 0.7518\n",
      "Epoch 12/120\n",
      "180/180 [==============================] - 11s 64ms/step - loss: 0.4100 - val_loss: 0.5257\n",
      "Epoch 13/120\n",
      "180/180 [==============================] - 12s 65ms/step - loss: 0.3403 - val_loss: 0.2028\n",
      "Epoch 14/120\n",
      "180/180 [==============================] - 12s 66ms/step - loss: 0.3877 - val_loss: 0.6096\n",
      "Epoch 15/120\n",
      "180/180 [==============================] - 12s 65ms/step - loss: 0.4530 - val_loss: 0.2943\n",
      "Epoch 16/120\n",
      "180/180 [==============================] - 12s 66ms/step - loss: 0.4407 - val_loss: 0.8553\n",
      "Epoch 17/120\n",
      "180/180 [==============================] - 12s 66ms/step - loss: 0.5932 - val_loss: 0.3182\n",
      "Epoch 18/120\n",
      "180/180 [==============================] - 12s 64ms/step - loss: 0.4830 - val_loss: 0.6445\n",
      "Epoch 19/120\n",
      "180/180 [==============================] - 12s 64ms/step - loss: 0.3367 - val_loss: 0.2869\n",
      "Epoch 20/120\n",
      "180/180 [==============================] - 12s 65ms/step - loss: 0.5291 - val_loss: 0.2816\n",
      "\n",
      "Epoch 00020: ReduceLROnPlateau reducing learning rate to 4.999999873689376e-05.\n",
      "Epoch 21/120\n",
      "180/180 [==============================] - 12s 66ms/step - loss: 0.3365 - val_loss: 0.2903\n",
      "Epoch 22/120\n",
      "180/180 [==============================] - 12s 66ms/step - loss: 0.3072 - val_loss: 0.2920\n",
      "Epoch 23/120\n",
      "180/180 [==============================] - 12s 66ms/step - loss: 0.3184 - val_loss: 0.3367\n",
      "Epoch 24/120\n",
      "180/180 [==============================] - 12s 64ms/step - loss: 0.3195 - val_loss: 0.4428\n",
      "Epoch 25/120\n",
      "180/180 [==============================] - 11s 64ms/step - loss: 0.2906 - val_loss: 0.2753\n",
      "Epoch 26/120\n",
      "180/180 [==============================] - 12s 66ms/step - loss: 0.3576 - val_loss: 0.2367\n",
      "Epoch 27/120\n",
      "180/180 [==============================] - 12s 64ms/step - loss: 0.2847 - val_loss: 0.2980\n",
      "\n",
      "Epoch 00027: ReduceLROnPlateau reducing learning rate to 2.499999936844688e-05.\n",
      "Epoch 28/120\n",
      "180/180 [==============================] - 12s 65ms/step - loss: 0.2956 - val_loss: 0.2713\n",
      "Epoch 29/120\n",
      "180/180 [==============================] - 12s 65ms/step - loss: 0.2705 - val_loss: 0.1717\n",
      "Epoch 30/120\n",
      "180/180 [==============================] - 12s 65ms/step - loss: 0.2865 - val_loss: 0.3148\n",
      "Epoch 31/120\n",
      "180/180 [==============================] - 12s 66ms/step - loss: 0.2936 - val_loss: 0.2147\n",
      "Epoch 32/120\n",
      "180/180 [==============================] - 12s 64ms/step - loss: 0.2822 - val_loss: 0.3392\n",
      "Epoch 33/120\n",
      "180/180 [==============================] - 12s 65ms/step - loss: 0.3334 - val_loss: 0.2913\n",
      "Epoch 34/120\n",
      "180/180 [==============================] - 12s 65ms/step - loss: 0.2921 - val_loss: 0.1919\n",
      "Epoch 35/120\n",
      "180/180 [==============================] - 12s 65ms/step - loss: 0.2766 - val_loss: 0.3465\n",
      "Epoch 36/120\n",
      "180/180 [==============================] - 12s 64ms/step - loss: 0.2830 - val_loss: 0.1658\n",
      "Epoch 37/120\n",
      "180/180 [==============================] - 12s 65ms/step - loss: 0.2846 - val_loss: 0.3894\n",
      "Epoch 38/120\n",
      "180/180 [==============================] - 12s 66ms/step - loss: 0.3369 - val_loss: 0.2853\n",
      "Epoch 39/120\n",
      "180/180 [==============================] - 11s 63ms/step - loss: 0.2755 - val_loss: 0.2696\n",
      "Epoch 40/120\n",
      "180/180 [==============================] - 12s 65ms/step - loss: 0.2912 - val_loss: 0.2581\n",
      "Epoch 41/120\n",
      "180/180 [==============================] - 12s 66ms/step - loss: 0.3137 - val_loss: 0.3138\n",
      "Epoch 42/120\n",
      "180/180 [==============================] - 11s 63ms/step - loss: 0.2739 - val_loss: 0.2676\n",
      "Epoch 43/120\n",
      "180/180 [==============================] - 12s 64ms/step - loss: 0.2767 - val_loss: 0.2004\n",
      "\n",
      "Epoch 00043: ReduceLROnPlateau reducing learning rate to 1.249999968422344e-05.\n",
      "Epoch 44/120\n",
      "180/180 [==============================] - 12s 65ms/step - loss: 0.2771 - val_loss: 0.3285\n",
      "Epoch 45/120\n",
      "180/180 [==============================] - 12s 66ms/step - loss: 0.2786 - val_loss: 0.2742\n",
      "Epoch 46/120\n",
      "180/180 [==============================] - 12s 66ms/step - loss: 0.2841 - val_loss: 0.2655\n",
      "Epoch 47/120\n",
      "180/180 [==============================] - 12s 66ms/step - loss: 0.2859 - val_loss: 0.3383\n",
      "Epoch 48/120\n",
      "180/180 [==============================] - 12s 65ms/step - loss: 0.2701 - val_loss: 0.2336\n",
      "Epoch 49/120\n",
      "180/180 [==============================] - 12s 65ms/step - loss: 0.2743 - val_loss: 0.2623\n",
      "Epoch 50/120\n",
      "180/180 [==============================] - 12s 65ms/step - loss: 0.2841 - val_loss: 0.3312\n",
      "\n",
      "Epoch 00050: ReduceLROnPlateau reducing learning rate to 6.24999984211172e-06.\n",
      "Epoch 51/120\n",
      "180/180 [==============================] - 12s 66ms/step - loss: 0.2821 - val_loss: 0.2461\n",
      "Epoch 52/120\n",
      "180/180 [==============================] - 12s 66ms/step - loss: 0.2844 - val_loss: 0.2644\n",
      "Epoch 53/120\n",
      "180/180 [==============================] - 11s 64ms/step - loss: 0.2610 - val_loss: 0.2654\n",
      "Epoch 54/120\n",
      "180/180 [==============================] - 12s 64ms/step - loss: 0.2718 - val_loss: 0.2539\n",
      "Epoch 00054: early stopping\n"
     ]
    },
    {
     "data": {
      "text/plain": [
       "<keras.callbacks.History at 0x7f778008e438>"
      ]
     },
     "execution_count": 16,
     "metadata": {},
     "output_type": "execute_result"
    }
   ],
   "source": [
    "optimizer = Adam(lr=0.0001, beta_1=0.9, beta_2=0.999, epsilon=None, decay=0.0, amsgrad=False)\n",
    "model.compile(optimizer=optimizer, loss='mean_absolute_error')\n",
    "#model.fit(x=[data_np,mask_np], y=ground_truth_np, batch_size=1, epochs=10, verbose=1, validation_split=0.1, shuffle=True,callbacks = callbacks)\n",
    "\n",
    "\n",
    "model.fit_generator(train_generator, steps_per_epoch=split_point , validation_data=val_generator, validation_steps = 242-split_point, epochs=120, callbacks=callbacks, verbose = 1)\n",
    "\n",
    "\n",
    "\n"
   ]
  },
  {
   "cell_type": "code",
   "execution_count": 51,
   "metadata": {},
   "outputs": [
    {
     "name": "stdout",
     "output_type": "stream",
     "text": [
      "40\n"
     ]
    }
   ],
   "source": [
    "result = []\n",
    "for i in range(200-split_point):\n",
    "    tmp_r = model.predict([data_np_v[i][newaxis,:,:,:],mask_np_v[i][newaxis,:,:,:]], verbose=0, steps=None)\n",
    "    result.append(tmp_r)\n",
    "print(len(result))"
   ]
  },
  {
   "cell_type": "code",
   "execution_count": 52,
   "metadata": {},
   "outputs": [
    {
     "data": {
      "text/plain": [
       "(1, 375, 1240, 1)"
      ]
     },
     "execution_count": 52,
     "metadata": {},
     "output_type": "execute_result"
    }
   ],
   "source": [
    "result[0].shape"
   ]
  },
  {
   "cell_type": "code",
   "execution_count": 53,
   "metadata": {},
   "outputs": [
    {
     "data": {
      "text/plain": [
       "(375, 1240, 1)"
      ]
     },
     "execution_count": 53,
     "metadata": {},
     "output_type": "execute_result"
    }
   ],
   "source": [
    "result[0][0].shape"
   ]
  },
  {
   "cell_type": "code",
   "execution_count": 24,
   "metadata": {},
   "outputs": [
    {
     "data": {
      "text/plain": [
       "<matplotlib.image.AxesImage at 0x7f97507c4ba8>"
      ]
     },
     "execution_count": 24,
     "metadata": {},
     "output_type": "execute_result"
    },
    {
     "data": {
      "image/png": "[encoded data removed]",
      "text/plain": [
       "<Figure size 432x288 with 1 Axes>"
      ]
     },
     "metadata": {},
     "output_type": "display_data"
    }
   ],
   "source": [
    "plt.imshow(result[0][0][:,:,0])"
   ]
  },
  {
   "cell_type": "code",
   "execution_count": 25,
   "metadata": {},
   "outputs": [
    {
     "data": {
      "text/plain": [
       "(376, 1241, 1)"
      ]
     },
     "execution_count": 25,
     "metadata": {},
     "output_type": "execute_result"
    }
   ],
   "source": [
    "ground_truth_np_v[0].shape"
   ]
  },
  {
   "cell_type": "code",
   "execution_count": 26,
   "metadata": {},
   "outputs": [
    {
     "data": {
      "text/plain": [
       "<matplotlib.image.AxesImage at 0x7f9758676198>"
      ]
     },
     "execution_count": 26,
     "metadata": {},
     "output_type": "execute_result"
    },
    {
     "data": {
      "image/png": "[encoded data removed]",
      "text/plain": [
       "<Figure size 432x288 with 1 Axes>"
      ]
     },
     "metadata": {},
     "output_type": "display_data"
    }
   ],
   "source": [
    "plt.imshow(ground_truth_np_v[0][:,:,0])"
   ]
  },
  {
   "cell_type": "code",
   "execution_count": 27,
   "metadata": {},
   "outputs": [
    {
     "data": {
      "text/plain": [
       "0.045965635292781463"
      ]
     },
     "execution_count": 27,
     "metadata": {},
     "output_type": "execute_result"
    }
   ],
   "source": [
    "np.sum(abs(result[0][0][:,:,0]-ground_truth_np_v[0][:,:,0])>3)/np.sum(ground_truth_np_v[0][:,:,0]>0)"
   ]
  },
  {
   "cell_type": "code",
   "execution_count": 28,
   "metadata": {},
   "outputs": [
    {
     "data": {
      "text/plain": [
       "(375, 1242, 1)"
      ]
     },
     "execution_count": 28,
     "metadata": {},
     "output_type": "execute_result"
    }
   ],
   "source": [
    "data_np_t[i].shape\n",
    "ground_truth_np_v[i].shape"
   ]
  },
  {
   "cell_type": "code",
   "execution_count": 37,
   "metadata": {},
   "outputs": [
    {
     "name": "stdout",
     "output_type": "stream",
     "text": [
      "0.013205436237917943 \t\t 0.0 \t\t 0.005715019349632265\n",
      "0.00013984759251050175 \t\t 0.0 \t\t 0.0034486944039853924\n",
      "0.0026606246356918562 \t\t 0.00573491529248068 \t\t 0.008188706917624054\n",
      "0.009907352862421679 \t\t 0.015878541209232582 \t\t 0.022385262143201416\n",
      "0.17459368614980572 \t\t 0.04692187961905882 \t\t 0.07982958582201077\n",
      "0.0011607464839523982 \t\t 0.008181572304363505 \t\t 0.010705914172376487\n",
      "0.01270103417089379 \t\t 0.03559631945263655 \t\t 0.045436671778538\n",
      "0.003788472080820738 \t\t 0.010758477562847521 \t\t 0.016622288354608817\n",
      "0.05404147438055814 \t\t 0.008140387014993365 \t\t 0.030551209174275586\n",
      "0.0013718765311122 \t\t 0.01019108280254777 \t\t 0.014226537793416774\n",
      "0.007292858310181402 \t\t 0.07939410034319333 \t\t 0.10259029253145939\n",
      "0.006158655516071285 \t\t 0.015096053651107489 \t\t 0.01449488337296604\n",
      "0.00852019752286894 \t\t 0.014065409212337085 \t\t 0.017526107018538007\n",
      "0.0036142898510311988 \t\t 0.00921268540663442 \t\t 0.010381699037976855\n",
      "0.004205179448746773 \t\t 0.005629111499708552 \t\t 0.006620034973769673\n",
      "0.0018251043540527796 \t\t 0.010557661072008662 \t\t 0.012374032869343486\n",
      "0.1185014956317561 \t\t 0.03405571896139112 \t\t 0.07809688751780638\n",
      "0.023394725918157784 \t\t 0.001573048436783116 \t\t 0.005287190579187695\n",
      "0.007876563319313199 \t\t 0.012149543137014268 \t\t 0.011792531768433501\n",
      "0.003111594956453919 \t\t 0.007896789288963993 \t\t 0.011552710256076954\n",
      "0.00958446364730611 \t\t 0.037951601602500766 \t\t 0.06507913694914036\n",
      "0.04520577629363752 \t\t 0.012290459336470771 \t\t 0.016424320885446472\n",
      "0.005870206106572812 \t\t 0.011545604488369979 \t\t 0.014935258899466227\n",
      "0.016668780652798917 \t\t 0.03890791476407915 \t\t 0.03806232031117876\n",
      "0.01013756038881667 \t\t 0.013338895248442987 \t\t 0.017471527521778777\n",
      "0.00601629657032155 \t\t 0.008897888455135757 \t\t 0.012460937880277646\n",
      "0.08638138236384654 \t\t 0.026220128392476755 \t\t 0.04266541618501312\n",
      "0.002070167792547396 \t\t 0.005030144548558146 \t\t 0.010895619960775768\n",
      "0.02410750923266311 \t\t 0.043564491861578444 \t\t 0.04577577166826244\n",
      "0.0022770333993219877 \t\t 0.00553964841924603 \t\t 0.005437691699873404\n",
      "0.014056833502294034 \t\t 0.0336632421642298 \t\t 0.040905908050541895\n",
      "0.009493208704542136 \t\t 0.01585788628135257 \t\t 0.023913661765045006\n",
      "0.022434520444695686 \t\t 0.023305068777086865 \t\t 0.026745807424156776\n",
      "0.009949807341310079 \t\t 0.0184926992496451 \t\t 0.022371222875684445\n",
      "0.013694103543406926 \t\t 0.0008683690799130094 \t\t 0.0028740711140483673\n",
      "0.003854934690669561 \t\t 0.008495826939630973 \t\t 0.013118005913394962\n",
      "0.03560656220113294 \t\t 0.054623703376738025 \t\t 0.05479536035704652\n",
      "0.01630813856935664 \t\t 0.053020825260454145 \t\t 0.06485612745369397\n",
      "0.002153335837922535 \t\t 0.0035003161280272696 \t\t 0.003756883802332933\n",
      "0.4280280113108003 \t\t 0.06159072362552901 \t\t 0.07720646006110869\n",
      "0.002006065584128388 \t\t 0.008877235104568143 \t\t 0.018228343969166613\n",
      "0.0029358052659562172 \t\t 0.01978778982408285 \t\t 0.04473057629626205\n",
      "0.0016893612686339095 \t\t 0.004219158545281674 \t\t 0.004397432850011885\n",
      "0.003410093091621754 \t\t 0.00034296913277805 \t\t 0.007790298873101421\n",
      "0.0034586119437399125 \t\t 0.011548756403444577 \t\t 0.015679040811620935\n",
      "0.008720899202630146 \t\t 0.011453518781422457 \t\t 0.01042878643937534\n",
      "0.0018586978845758883 \t\t 0.008420620250564798 \t\t 0.009960977613472992\n",
      "0.0017588020782908962 \t\t 0.0048407396650208155 \t\t 0.007841998257333721\n",
      "0.09345034597195216 \t\t 0.040765840237099234 \t\t 0.044377235318564176\n",
      "0.006084044258063278 \t\t 0.017359678332549637 \t\t 0.016879864116614046\n",
      "0.01572758818683376 \t\t 0.02766058366827271 \t\t 0.034675587288114436\n",
      "0.005125876595529993 \t\t 0.027173200141264314 \t\t 0.033055849856213106\n",
      "0.006258442580732938 \t\t 0.01547118103808515 \t\t 0.015383718331211552\n",
      "0.005675918875891189 \t\t 0.007604149156028439 \t\t 0.009740035004795854\n",
      "0.009862774917069092 \t\t 0.021344147701502093 \t\t 0.023016105938119757\n",
      "0.011479990719163918 \t\t 0.013598442433596626 \t\t 0.013437036588687468\n",
      "0.0034140947799266744 \t\t 0.0031619173245911814 \t\t 0.002997032065333359\n",
      "0.0027310745071263977 \t\t 0.00812684323821987 \t\t 0.00898030402169687\n",
      "0.003270462433769128 \t\t 0.013402483307014662 \t\t 0.013410499146313115\n",
      "0.5268308230124936 \t\t 0.351280259750935 \t\t 0.4081562227859017\n",
      "0.00288698385231356 \t\t 0.00861680807296035 \t\t 0.010903440543141426\n",
      "0.00813994640780626 \t\t 0.011476818848273422 \t\t 0.010583615619259483\n",
      "0.0062055797178317594 \t\t 0.016848767723913582 \t\t 0.02505215515717266\n",
      "0.10592028709468587 \t\t 0.0340133930337074 \t\t 0.07956719310406558\n",
      "0.010000430589045815 \t\t 0.017105149844987944 \t\t 0.01609326558732346\n",
      "0.00230519325402513 \t\t 0.004897042663991209 \t\t 0.004729826573025656\n",
      "0.02016362032784891 \t\t 0.03062558924606916 \t\t 0.029545938383869104\n",
      "0.005643673196969102 \t\t 0.018962741941816182 \t\t 0.02496957324015547\n",
      "0.002078853046594982 \t\t 0.008960573476702509 \t\t 0.010949820788530466\n",
      "0.00436333443475756 \t\t 0.023926323191757956 \t\t 0.02283337145955655\n",
      "0.00555483428232283 \t\t 0.009050948680379102 \t\t 0.01176808798709127\n",
      "0.0014462738201298174 \t\t 0.0044892339376829534 \t\t 0.010471022457739879\n",
      "0.0023729374758567406 \t\t 0.005752993764141052 \t\t 0.011202472269742287\n",
      "0.004747213375796178 \t\t 0.009494426751592356 \t\t 0.009205812101910828\n",
      "0.0032756155065125805 \t\t 0.010822092528891122 \t\t 0.014203996444169597\n",
      "0.008437107576391796 \t\t 0.024631121808287988 \t\t 0.022106529928840518\n",
      "0.0030382647025862606 \t\t 0.013410701166743453 \t\t 0.012962432604066793\n",
      "0.09032234578911924 \t\t 0.0015179920278116524 \t\t 0.005664258022242042\n",
      "0.013654950832440853 \t\t 0.027005646967189174 \t\t 0.029330152857560122\n",
      "0.0023153102321147147 \t\t 0.013775123061657296 \t\t 0.011576551160573574\n",
      "0.006686704712471697 \t\t 0.01655124928829628 \t\t 0.028110641791242404\n",
      "0.003014661812196409 \t\t 0.019394026138996483 \t\t 0.019402971723008935\n",
      "0.0035154967756964813 \t\t 0.005008524020796493 \t\t 0.006649795105835513\n",
      "0.001967508527402613 \t\t 0.011235025329373798 \t\t 0.012007318396204732\n",
      "0.004675663472633321 \t\t 0.011558721717754478 \t\t 0.019535443736517333\n",
      "0.0018691016055889201 \t\t 0.005576663806839074 \t\t 0.006598030804428647\n",
      "0.007989114187635944 \t\t 0.02339006463451091 \t\t 0.03113177399569103\n",
      "0.08513643750708644 \t\t 0.0007275407233833478 \t\t 0.007936807891454704\n",
      "0.007404061432106524 \t\t 0.010192859106799167 \t\t 0.012264817942574335\n",
      "0.004422673198040588 \t\t 0.009526475390716119 \t\t 0.01562864473991136\n",
      "0.005201503627939506 \t\t 0.005868082874377131 \t\t 0.006775067750677507\n",
      "0.004096650608807799 \t\t 0.009305971753341172 \t\t 0.01677856591940725\n",
      "0.0017654875068528792 \t\t 0.006699560486531189 \t\t 0.009208411154164228\n",
      "0.005226862907549101 \t\t 0.013463131731565867 \t\t 0.02003021589746089\n",
      "0.006812736352876649 \t\t 0.029733552726537917 \t\t 0.03290898068762449\n",
      "0.04151616432607425 \t\t 0.06579637595359782 \t\t 0.07065241827910253\n",
      "0.006837404825013084 \t\t 0.012442388533418872 \t\t 0.017237013151452738\n",
      "0.006019417475728156 \t\t 0.02107766990291262 \t\t 0.023912621359223302\n",
      "0.011759989309100627 \t\t 0.010800238115486012 \t\t 0.021078080011662798\n",
      "0.002951432652718259 \t\t 0.008581211662885472 \t\t 0.010135702882110747\n",
      "0.01249587745978233 \t\t 0.01718641210744256 \t\t 0.031386272857195203\n",
      "0.0018675182549909425 \t\t 0.003977813883130708 \t\t 0.0072646460119147665\n",
      "0.0022787757817697937 \t\t 0.006952761144377911 \t\t 0.012674650698602795\n",
      "0.00162632450661505 \t\t 0.01002733821563267 \t\t 0.015465048989284217\n",
      "0.013639496681944648 \t\t 0.00017609088302031082 \t\t 0.007863715718878452\n",
      "0.2775865684043768 \t\t 0.10875352369710571 \t\t 0.12261378726576636\n",
      "0.009418603086610782 \t\t 0.01811062822082588 \t\t 0.023344680507528155\n",
      "0.01312563432963474 \t\t 0.03943392138303817 \t\t 0.05336921690937496\n",
      "0.20860993699910477 \t\t 0.09243282274355355 \t\t 0.14221234741288027\n",
      "0.09227930403196091 \t\t 0.0021643828462504823 \t\t 0.0038500483069361796\n",
      "0.028460140502146188 \t\t 0.0 \t\t 0.002177058474555797\n",
      "0.0025119263731160552 \t\t 0.009604424367796682 \t\t 0.01578925148815806\n",
      "0.008125368969033436 \t\t 0.04957870444909569 \t\t 0.04666988676004937\n",
      "0.0041292709296721335 \t\t 0.00960022925920619 \t\t 0.014849744037306725\n",
      "0.19200130464157303 \t\t 0.08005451538001569 \t\t 0.10140559598046144\n",
      "0.007876154263986964 \t\t 0.013694480424518447 \t\t 0.020515606066936865\n",
      "0.007888681932727074 \t\t 0.019436835762024762 \t\t 0.021189876191519668\n",
      "0.02552974214960429 \t\t 0.03672027912518083 \t\t 0.0384648115054038\n",
      "0.009291147394762271 \t\t 0.0378170345961035 \t\t 0.0784998719886359\n",
      "0.003661817961115944 \t\t 0.010833721094903801 \t\t 0.015466628902061543\n",
      "0.00948059937601617 \t\t 0.01745616733312827 \t\t 0.018554730412620294\n",
      "0.0053685280731260035 \t\t 0.0085706412778047 \t\t 0.009197761371302604\n",
      "0.0024479931664531185 \t\t 0.00516682813004573 \t\t 0.007885663093638343\n",
      "0.0021930498765128457 \t\t 0.008413523124378722 \t\t 0.013250530328650045\n",
      "0.010850648665752558 \t\t 0.0161639067608902 \t\t 0.020923425798966354\n",
      "0.009286439246145337 \t\t 0.001300587695467999 \t\t 0.004308956430312202\n"
     ]
    },
    {
     "name": "stdout",
     "output_type": "stream",
     "text": [
      "0.0018654689028145036 \t\t 0.2901528597819394 \t\t 0.3347611113123483\n",
      "0.006143157964550413 \t\t 0.015187942498051764 \t\t 0.016298850955878696\n",
      "0.0024512896306843786 \t\t 0.004749373659450983 \t\t 0.006020078945945459\n",
      "0.17471623247796533 \t\t 0.0001533250630723555 \t\t 0.0029085299843422587\n",
      "0.16251521708621763 \t\t 0.04475373614143649 \t\t 0.09558369968570393\n",
      "0.0026187131216633885 \t\t 0.008024726046642314 \t\t 0.011261590334363586\n",
      "0.019343543209992754 \t\t 0.03207921910445513 \t\t 0.041219160932631754\n",
      "0.141826495803496 \t\t 0.00019235498503770401 \t\t 0.003082549507059915\n",
      "0.0014817950889077054 \t\t 0.02639327226541452 \t\t 0.023930028481256253\n",
      "0.005919006467859795 \t\t 0.022330797128743772 \t\t 0.030154647496260265\n",
      "0.005485908937872577 \t\t 0.012259125027231497 \t\t 0.017943081219178897\n",
      "0.003585294147775581 \t\t 0.01691234467993567 \t\t 0.02321221868245562\n",
      "0.00732819654646095 \t\t 0.016771180051122676 \t\t 0.01730447415362548\n",
      "0.011688883551499139 \t\t 0.014664478336869353 \t\t 0.01925463352147632\n",
      "0.004820680240938553 \t\t 0.009393167043729774 \t\t 0.010662771938868047\n",
      "0.003288010535588135 \t\t 0.00695976765888417 \t\t 0.007805754454512947\n",
      "0.008805229772834775 \t\t 0.02254672472134965 \t\t 0.026355047240179015\n",
      "0.015615410842141152 \t\t 0.024019774974428913 \t\t 0.032679849982952605\n",
      "0.002152025209438168 \t\t 0.007801091384213358 \t\t 0.013623088156175543\n",
      "0.009942968632748012 \t\t 0.014157786782730502 \t\t 0.0188228525689129\n",
      "0.008908473136547038 \t\t 0.011562964535994903 \t\t 0.0143023996602251\n",
      "0.0018338529249954153 \t\t 0.006680464226769013 \t\t 0.012064132456576983\n",
      "0.007985389959177826 \t\t 0.014144524815584043 \t\t 0.014657786053617896\n",
      "0.003756768953068592 \t\t 0.009634476534296029 \t\t 0.010537003610108304\n",
      "0.002008896541828096 \t\t 0.0057875352752666575 \t\t 0.004842875591907016\n",
      "0.020320603604642887 \t\t 7.363426840672624e-05 \t\t 0.0044745090435153985\n",
      "0.004588513913558318 \t\t 0.013744396515266852 \t\t 0.018354055654233273\n",
      "0.001653814167989718 \t\t 0.0024192938686021016 \t\t 0.004488924170257806\n",
      "0.0018941900476442562 \t\t 0.003523689782953944 \t\t 0.003523689782953944\n",
      "0.003232120322439414 \t\t 0.005485590666769682 \t\t 0.012374771433722218\n",
      "0.20174930914020545 \t\t 0.048417540017727724 \t\t 0.13123207675061266\n",
      "0.00983546501441473 \t\t 0.03603682525524425 \t\t 0.03975598490037112\n",
      "0.04004016004075944 \t\t 0.0670582770143707 \t\t 0.0718085504922602\n",
      "0.011221469685689902 \t\t 0.025184754780019247 \t\t 0.03184863726326875\n",
      "0.0034937888198757765 \t\t 0.005175983436853002 \t\t 0.006811123658949746\n",
      "0.017491043332561403 \t\t 0.035581468212344536 \t\t 0.04086692367420888\n",
      "0.004254862220313276 \t\t 0.0071406520542796935 \t\t 0.007878877360643195\n",
      "0.005332400702926991 \t\t 0.0006692486712175577 \t\t 0.002689947884958312\n",
      "0.004089295340062083 \t\t 0.010074536701425676 \t\t 0.01465640625290433\n",
      "0.004283250287466462 \t\t 0.0217707934074358 \t\t 0.024051360674587966\n",
      "0.0024572457245724574 \t\t 0.0048514851485148515 \t\t 0.006723672367236724\n",
      "0.0046282904252241824 \t\t 0.018811195554036167 \t\t 0.020695821390064952\n",
      "0.01023683936400913 \t\t 0.019119499237682174 \t\t 0.020691483820869515\n",
      "0.004319908427349489 \t\t 0.024147582497706762 \t\t 0.020211840155548062\n",
      "0.004427232243419799 \t\t 0.014035452513385662 \t\t 0.017336383011904145\n",
      "0.003724735910117848 \t\t 0.013689931000793796 \t\t 0.03528118703059168\n",
      "0.001779456357924936 \t\t 0.005174949612332722 \t\t 0.010440687814355492\n",
      "0.0071236534557492185 \t\t 0.014201583846955758 \t\t 0.014146716169504544\n",
      "0.005508970775529741 \t\t 2.564299817934713e-05 \t\t 0.0035814720790488157\n",
      "0.0008405661115020721 \t\t 0.019430760810071154 \t\t 0.019117992024395965\n",
      "0.0037737980905033614 \t\t 0.005830179085927349 \t\t 0.0073781142308344165\n",
      "0.017377168026889576 \t\t 0.04059798547875087 \t\t 0.03766517646283461\n",
      "0.002105037052948126 \t\t 0.004317473955536462 \t\t 0.008613467941144882\n",
      "0.003148757023815737 \t\t 0.013577927387227528 \t\t 0.01710940625924186\n",
      "0.024680617546782142 0.020875555507485415 0.027359660254920686\n"
     ]
    }
   ],
   "source": [
    "tmp_combine = np.dstack((left_image,tmp_disp_kitti,warp_kitti,tmp_disp_mixed,warp_mixed))\n",
    "\n",
    "#E_a= []\n",
    "K_a = []\n",
    "M_a = []\n",
    "Q_a = []\n",
    "for i in range(split_point):\n",
    "    \n",
    "    tmp_r = model.predict([data_np_t[i][newaxis,:,:,:],mask_np_t[i][newaxis,:,:,:]], verbose=0, steps=None)\n",
    "    K = np.sum(abs(data_np_t[i][:,:,4]*(ground_truth_np_t[i][:,:,0]>0)-ground_truth_np_t[i][:,:,0])>3)/np.sum(ground_truth_np_t[i][:,:,0]>0)\n",
    "    M = np.sum(abs(data_np_t[i][:,:,8]*(ground_truth_np_t[i][:,:,0]>0)-ground_truth_np_t[i][:,:,0])>3)/np.sum(ground_truth_np_t[i][:,:,0]>0)\n",
    "    #E = np.sum(abs(data_np_t[i][:,:,11]*(ground_truth_np_t[i][:,:,0]>0)-ground_truth_np_t[i][:,:,0])>3)/np.sum(ground_truth_np_t[i][:,:,0]>0)  \n",
    "    M_a.append(M)  \n",
    "    K_a.append(K)\n",
    "    #E_a.append(E)\n",
    "    #E = np.sum(abs(data_np_v[i][:,:,3]*(ground_truth_np_v[i][:,:,0]>0)-ground_truth_np_v[i][:,:,0])>3)/np.sum(ground_truth_np_v[i][:,:,0]>0)\n",
    "    #K = np.sum(abs(data_np_v[i][:,:,4]*(ground_truth_np_v[i][:,:,0]>0)-ground_truth_np_v[i][:,:,0])>3)/np.sum(ground_truth_np_v[i][:,:,0]>0)\n",
    "    #M = np.sum(abs(data_np_t[i][:,:,3]*(ground_truth_np_t[i][:,:,0]>0)-ground_truth_np_t[i][:,:,0])>3)/np.sum(ground_truth_np_t[i][:,:,0]>0)  \n",
    "    #M_a.append(M)  \n",
    "    Q = np.sum(abs(tmp_r[0][:,:,0]*(ground_truth_np_t[i][:,:,0]>0)-ground_truth_np_t[i][:,:,0])>3)/np.sum(ground_truth_np_t[i][:,:,0]>0)\n",
    "    Q_a.append(Q)  \n",
    "    #print(K,'\\t\\t',M,'\\t\\t',E,'\\t\\t',Q)\n",
    "    print(K,'\\t\\t',M,'\\t\\t',Q)\n",
    "    \n",
    "#print(np.mean(Q_a))\n",
    "print(np.mean(K_a),np.mean(M_a),np.mean(Q_a))"
   ]
  },
  {
   "cell_type": "code",
   "execution_count": 39,
   "metadata": {},
   "outputs": [
    {
     "name": "stdout",
     "output_type": "stream",
     "text": [
      "0.03155915530535461 0.02673294429905399 0.03373888460389816\n"
     ]
    }
   ],
   "source": [
    "tmp_combine = np.dstack((left_image,tmp_disp_kitti,warp_kitti,tmp_disp_mixed,warp_mixed))\n",
    "\n",
    "E_a= []\n",
    "K_a = []\n",
    "M_a = []\n",
    "Q_a = []\n",
    "for i in range(242 - split_point):\n",
    "    \n",
    "    tmp_r = model.predict([data_np_v[i][newaxis,:,:,:],mask_np_v[i][newaxis,:,:,:]], verbose=0, steps=None)\n",
    "    K = np.sum(abs(data_np_v[i][:,:,4]*(ground_truth_np_v[i][:,:,0]>0)-ground_truth_np_v[i][:,:,0])>3)/np.sum(ground_truth_np_v[i][:,:,0]>0)\n",
    "    M = np.sum(abs(data_np_v[i][:,:,8]*(ground_truth_np_v[i][:,:,0]>0)-ground_truth_np_v[i][:,:,0])>3)/np.sum(ground_truth_np_v[i][:,:,0]>0)\n",
    "    #E = np.sum(abs(data_np_v[i][:,:,11]*(ground_truth_np_v[i][:,:,0]>0)-ground_truth_np_v[i][:,:,0])>3)/np.sum(ground_truth_np_v[i][:,:,0]>0)\n",
    "        \n",
    "    M_a.append(M)  \n",
    "    K_a.append(K)\n",
    "    #E_a.append(E)\n",
    "    Q = np.sum(abs(tmp_r[0][:,:,0]*(ground_truth_np_v[i][:,:,0]>0)-ground_truth_np_v[i][:,:,0])>3)/np.sum(ground_truth_np_v[i][:,:,0]>0)\n",
    "    Q_a.append(Q)  \n",
    "    #print(K,'\\t\\t',M,'\\t\\t',E,'\\t\\t',Q)\n",
    "    \n",
    "#print(np.mean(Q_a))\n",
    "print(np.mean(K_a),np.mean(M_a),np.mean(Q_a))"
   ]
  },
  {
   "cell_type": "code",
   "execution_count": null,
   "metadata": {
    "collapsed": true
   },
   "outputs": [],
   "source": []
  },
  {
   "cell_type": "code",
   "execution_count": null,
   "metadata": {
    "collapsed": true
   },
   "outputs": [],
   "source": []
  },
  {
   "cell_type": "code",
   "execution_count": null,
   "metadata": {
    "collapsed": true
   },
   "outputs": [],
   "source": []
  },
  {
   "cell_type": "code",
   "execution_count": 47,
   "metadata": {},
   "outputs": [
    {
     "ename": "NameError",
     "evalue": "name 'E' is not defined",
     "output_type": "error",
     "traceback": [
      "\u001b[0;31m---------------------------------------------------------------------------\u001b[0m",
      "\u001b[0;31mNameError\u001b[0m                                 Traceback (most recent call last)",
      "\u001b[0;32m<ipython-input-47-35c7b9540050>\u001b[0m in \u001b[0;36m<module>\u001b[0;34m()\u001b[0m\n\u001b[1;32m     12\u001b[0m     \u001b[0mM\u001b[0m \u001b[0;34m=\u001b[0m \u001b[0mnp\u001b[0m\u001b[0;34m.\u001b[0m\u001b[0msum\u001b[0m\u001b[0;34m(\u001b[0m\u001b[0mabs\u001b[0m\u001b[0;34m(\u001b[0m\u001b[0mdata_np_v\u001b[0m\u001b[0;34m[\u001b[0m\u001b[0mi\u001b[0m\u001b[0;34m]\u001b[0m\u001b[0;34m[\u001b[0m\u001b[0;34m:\u001b[0m\u001b[0;34m,\u001b[0m\u001b[0;34m:\u001b[0m\u001b[0;34m,\u001b[0m\u001b[0;36m4\u001b[0m\u001b[0;34m]\u001b[0m\u001b[0;34m*\u001b[0m\u001b[0;34m(\u001b[0m\u001b[0mground_truth_np_v\u001b[0m\u001b[0;34m[\u001b[0m\u001b[0mi\u001b[0m\u001b[0;34m]\u001b[0m\u001b[0;34m[\u001b[0m\u001b[0;34m:\u001b[0m\u001b[0;34m,\u001b[0m\u001b[0;34m:\u001b[0m\u001b[0;34m,\u001b[0m\u001b[0;36m0\u001b[0m\u001b[0;34m]\u001b[0m\u001b[0;34m>\u001b[0m\u001b[0;36m0\u001b[0m\u001b[0;34m)\u001b[0m\u001b[0;34m-\u001b[0m\u001b[0mground_truth_np_v\u001b[0m\u001b[0;34m[\u001b[0m\u001b[0mi\u001b[0m\u001b[0;34m]\u001b[0m\u001b[0;34m[\u001b[0m\u001b[0;34m:\u001b[0m\u001b[0;34m,\u001b[0m\u001b[0;34m:\u001b[0m\u001b[0;34m,\u001b[0m\u001b[0;36m0\u001b[0m\u001b[0;34m]\u001b[0m\u001b[0;34m)\u001b[0m\u001b[0;34m>\u001b[0m\u001b[0;36m3\u001b[0m\u001b[0;34m)\u001b[0m\u001b[0;34m/\u001b[0m\u001b[0mnp\u001b[0m\u001b[0;34m.\u001b[0m\u001b[0msum\u001b[0m\u001b[0;34m(\u001b[0m\u001b[0mground_truth_np_v\u001b[0m\u001b[0;34m[\u001b[0m\u001b[0mi\u001b[0m\u001b[0;34m]\u001b[0m\u001b[0;34m[\u001b[0m\u001b[0;34m:\u001b[0m\u001b[0;34m,\u001b[0m\u001b[0;34m:\u001b[0m\u001b[0;34m,\u001b[0m\u001b[0;36m0\u001b[0m\u001b[0;34m]\u001b[0m\u001b[0;34m>\u001b[0m\u001b[0;36m0\u001b[0m\u001b[0;34m)\u001b[0m\u001b[0;34m\u001b[0m\u001b[0m\n\u001b[1;32m     13\u001b[0m     \u001b[0;31m#M = np.sum(abs(data_np_v[i][:,:,5]*(ground_truth_np_v[i][:,:,0]>0)-ground_truth_np_v[i][:,:,0])>3)/np.sum(ground_truth_np_v[i][:,:,0]>0)\u001b[0m\u001b[0;34m\u001b[0m\u001b[0;34m\u001b[0m\u001b[0m\n\u001b[0;32m---> 14\u001b[0;31m     \u001b[0mE_a\u001b[0m\u001b[0;34m.\u001b[0m\u001b[0mappend\u001b[0m\u001b[0;34m(\u001b[0m\u001b[0mE\u001b[0m\u001b[0;34m)\u001b[0m\u001b[0;34m\u001b[0m\u001b[0m\n\u001b[0m\u001b[1;32m     15\u001b[0m     \u001b[0mK_a\u001b[0m\u001b[0;34m.\u001b[0m\u001b[0mappend\u001b[0m\u001b[0;34m(\u001b[0m\u001b[0mK\u001b[0m\u001b[0;34m)\u001b[0m\u001b[0;34m\u001b[0m\u001b[0m\n\u001b[1;32m     16\u001b[0m     \u001b[0mM_a\u001b[0m\u001b[0;34m.\u001b[0m\u001b[0mappend\u001b[0m\u001b[0;34m(\u001b[0m\u001b[0mM\u001b[0m\u001b[0;34m)\u001b[0m\u001b[0;34m\u001b[0m\u001b[0m\n",
      "\u001b[0;31mNameError\u001b[0m: name 'E' is not defined"
     ]
    }
   ],
   "source": [
    "E_a= []\n",
    "K_a = []\n",
    "M_a = []\n",
    "Q_a = []\n",
    "result = []\n",
    "\n",
    "for i in range(242-split_point):\n",
    "    \n",
    "    tmp_r = model.predict([data_np_v[i][newaxis,:,:,:],mask_np_v[i][newaxis,:,:,:]], verbose=0, steps=None)\n",
    "    result.append(tmp_r[0])\n",
    "    K = np.sum(abs(data_np_v[i][:,:,3]*(ground_truth_np_v[i][:,:,0]>0)-ground_truth_np_v[i][:,:,0])>3)/np.sum(ground_truth_np_v[i][:,:,0]>0)\n",
    "    M = np.sum(abs(data_np_v[i][:,:,4]*(ground_truth_np_v[i][:,:,0]>0)-ground_truth_np_v[i][:,:,0])>3)/np.sum(ground_truth_np_v[i][:,:,0]>0)\n",
    "    #M = np.sum(abs(data_np_v[i][:,:,5]*(ground_truth_np_v[i][:,:,0]>0)-ground_truth_np_v[i][:,:,0])>3)/np.sum(ground_truth_np_v[i][:,:,0]>0)\n",
    "    E_a.append(E)  \n",
    "    K_a.append(K)  \n",
    "    M_a.append(M)  \n",
    "    Q = np.sum(abs(tmp_r[0][:,:,0]*(ground_truth_np_v[i][:,:,0]>0)-ground_truth_np_v[i][:,:,0])>3)/np.sum(ground_truth_np_v[i][:,:,0]>0)\n",
    "    Q_a.append(Q)  \n",
    "    print(E,'\\t',K,'\\t',M,'\\t',Q)\n",
    "print(np.mean(M_a),np.mean(Q_a))"
   ]
  },
  {
   "cell_type": "code",
   "execution_count": 26,
   "metadata": {
    "collapsed": true
   },
   "outputs": [],
   "source": [
    "iix = 6\n",
    "#result.append(tmp_r[0])\n",
    "#M = np.sum(abs(data_np_v[i][:,:,3]*(ground_truth_np_v[i][:,:,0]>0)-ground_truth_np_v[i][:,:,0])>3)/np.sum(ground_truth_np_v[i][:,:,0]>0)\n",
    "\n"
   ]
  },
  {
   "cell_type": "code",
   "execution_count": 27,
   "metadata": {},
   "outputs": [
    {
     "data": {
      "text/plain": [
       "(1, 375, 1242, 1)"
      ]
     },
     "execution_count": 27,
     "metadata": {},
     "output_type": "execute_result"
    }
   ],
   "source": [
    "result[iix].shape"
   ]
  },
  {
   "cell_type": "code",
   "execution_count": 31,
   "metadata": {},
   "outputs": [
    {
     "data": {
      "text/plain": [
       "<matplotlib.image.AxesImage at 0x7f2b1866fe10>"
      ]
     },
     "execution_count": 31,
     "metadata": {},
     "output_type": "execute_result"
    },
    {
     "data": {
      "image/png": "[encoded data removed]",
      "text/plain": [
       "<Figure size 432x288 with 1 Axes>"
      ]
     },
     "metadata": {},
     "output_type": "display_data"
    }
   ],
   "source": [
    "plt.imshow(result[iix][0,:,:,0])"
   ]
  },
  {
   "cell_type": "code",
   "execution_count": 29,
   "metadata": {},
   "outputs": [
    {
     "data": {
      "text/plain": [
       "<matplotlib.image.AxesImage at 0x7f2b3865c4a8>"
      ]
     },
     "execution_count": 29,
     "metadata": {},
     "output_type": "execute_result"
    },
    {
     "data": {
      "image/png": "[encoded data removed]",
      "text/plain": [
       "<Figure size 432x288 with 1 Axes>"
      ]
     },
     "metadata": {},
     "output_type": "display_data"
    }
   ],
   "source": [
    "plt.imshow(ground_truth_np_v[iix][:,:,0])"
   ]
  },
  {
   "cell_type": "code",
   "execution_count": 32,
   "metadata": {},
   "outputs": [
    {
     "data": {
      "text/plain": [
       "<matplotlib.image.AxesImage at 0x7f2af8785f98>"
      ]
     },
     "execution_count": 32,
     "metadata": {},
     "output_type": "execute_result"
    },
    {
     "data": {
      "image/png": "[encoded data removed]",
      "text/plain": [
       "<Figure size 432x288 with 1 Axes>"
      ]
     },
     "metadata": {},
     "output_type": "display_data"
    }
   ],
   "source": [
    "plt.imshow(abs(result[iix][0,:,:,0]*(ground_truth_np_v[iix][:,:,0]>0)-ground_truth_np_v[iix][:,:,0])>3)"
   ]
  },
  {
   "cell_type": "code",
   "execution_count": 177,
   "metadata": {},
   "outputs": [
    {
     "data": {
      "text/plain": [
       "<matplotlib.image.AxesImage at 0x7f585fd3b1d0>"
      ]
     },
     "execution_count": 177,
     "metadata": {},
     "output_type": "execute_result"
    },
    {
     "data": {
      "image/png": "[encoded data removed]",
      "text/plain": [
       "<Figure size 432x288 with 1 Axes>"
      ]
     },
     "metadata": {},
     "output_type": "display_data"
    }
   ],
   "source": [
    "plt.imshow(abs(data_np_v[iix][:,:,3]*(ground_truth_np_v[iix][:,:,0]>0)-ground_truth_np_v[iix][:,:,0])>3)"
   ]
  },
  {
   "cell_type": "code",
   "execution_count": 68,
   "metadata": {},
   "outputs": [
    {
     "name": "stdout",
     "output_type": "stream",
     "text": [
      "nan nan 0.028275282809898394\n"
     ]
    },
    {
     "name": "stderr",
     "output_type": "stream",
     "text": [
      "/opt/conda/lib/python3.6/site-packages/numpy/core/fromnumeric.py:2957: RuntimeWarning: Mean of empty slice.\n",
      "  out=out, **kwargs)\n",
      "/opt/conda/lib/python3.6/site-packages/numpy/core/_methods.py:80: RuntimeWarning: invalid value encountered in double_scalars\n",
      "  ret = ret.dtype.type(ret / rcount)\n"
     ]
    }
   ],
   "source": [
    "print(np.mean(E_a),np.mean(K_a),np.mean(Q_a))"
   ]
  },
  {
   "cell_type": "code",
   "execution_count": 69,
   "metadata": {},
   "outputs": [
    {
     "name": "stdout",
     "output_type": "stream",
     "text": [
      "nan nan 0.028275282809898394\n"
     ]
    },
    {
     "name": "stderr",
     "output_type": "stream",
     "text": [
      "/opt/conda/lib/python3.6/site-packages/numpy/core/fromnumeric.py:2957: RuntimeWarning: Mean of empty slice.\n",
      "  out=out, **kwargs)\n",
      "/opt/conda/lib/python3.6/site-packages/numpy/core/_methods.py:80: RuntimeWarning: invalid value encountered in double_scalars\n",
      "  ret = ret.dtype.type(ret / rcount)\n"
     ]
    }
   ],
   "source": [
    "print(np.mean(E_a),np.mean(K_a),np.mean(Q_a))"
   ]
  },
  {
   "cell_type": "code",
   "execution_count": 14,
   "metadata": {},
   "outputs": [
    {
     "data": {
      "text/plain": [
       "0.13277353802466946"
      ]
     },
     "execution_count": 14,
     "metadata": {},
     "output_type": "execute_result"
    }
   ],
   "source": [
    "sum(sum((tmp_disp_eth*(tmp_ground_true>0)-tmp_ground_true)>3))/sum(sum(tmp_ground_true>0))"
   ]
  },
  {
   "cell_type": "code",
   "execution_count": 70,
   "metadata": {},
   "outputs": [
    {
     "name": "stdout",
     "output_type": "stream",
     "text": [
      "nan nan 0.02673294429905399 0.028275282809898394\n"
     ]
    },
    {
     "name": "stderr",
     "output_type": "stream",
     "text": [
      "/opt/conda/lib/python3.6/site-packages/numpy/core/fromnumeric.py:2957: RuntimeWarning: Mean of empty slice.\n",
      "  out=out, **kwargs)\n",
      "/opt/conda/lib/python3.6/site-packages/numpy/core/_methods.py:80: RuntimeWarning: invalid value encountered in double_scalars\n",
      "  ret = ret.dtype.type(ret / rcount)\n"
     ]
    }
   ],
   "source": [
    "print(np.mean(E_a),np.mean(K_a),np.mean(M_a),np.mean(Q_a))"
   ]
  },
  {
   "cell_type": "code",
   "execution_count": 75,
   "metadata": {},
   "outputs": [
    {
     "name": "stdout",
     "output_type": "stream",
     "text": [
      "nan nan 0.02673294429905399 0.027597779813781063\n"
     ]
    },
    {
     "name": "stderr",
     "output_type": "stream",
     "text": [
      "/opt/conda/lib/python3.6/site-packages/numpy/core/fromnumeric.py:2957: RuntimeWarning: Mean of empty slice.\n",
      "  out=out, **kwargs)\n",
      "/opt/conda/lib/python3.6/site-packages/numpy/core/_methods.py:80: RuntimeWarning: invalid value encountered in double_scalars\n",
      "  ret = ret.dtype.type(ret / rcount)\n"
     ]
    }
   ],
   "source": [
    "print(np.mean(E_a),np.mean(K_a),np.mean(M_a),np.mean(Q_a))"
   ]
  },
  {
   "cell_type": "code",
   "execution_count": null,
   "metadata": {
    "collapsed": true
   },
   "outputs": [],
   "source": []
  },
  {
   "cell_type": "code",
   "execution_count": null,
   "metadata": {
    "collapsed": true
   },
   "outputs": [],
   "source": []
  },
  {
   "cell_type": "code",
   "execution_count": null,
   "metadata": {
    "collapsed": true
   },
   "outputs": [],
   "source": []
  },
  {
   "cell_type": "code",
   "execution_count": null,
   "metadata": {
    "collapsed": true
   },
   "outputs": [],
   "source": []
  },
  {
   "cell_type": "code",
   "execution_count": null,
   "metadata": {
    "collapsed": true
   },
   "outputs": [],
   "source": []
  },
  {
   "cell_type": "code",
   "execution_count": null,
   "metadata": {
    "collapsed": true
   },
   "outputs": [],
   "source": []
  },
  {
   "cell_type": "code",
   "execution_count": null,
   "metadata": {
    "collapsed": true
   },
   "outputs": [],
   "source": []
  },
  {
   "cell_type": "code",
   "execution_count": null,
   "metadata": {
    "collapsed": true
   },
   "outputs": [],
   "source": []
  },
  {
   "cell_type": "markdown",
   "metadata": {},
   "source": [
    "# draft"
   ]
  },
  {
   "cell_type": "code",
   "execution_count": null,
   "metadata": {
    "collapsed": true
   },
   "outputs": [],
   "source": [
    "path_ground_truth = './training'\n",
    "#print(glob.glob(\"/home/adam/*.txt\")\n",
    "training_data_folder_path_list= glob.glob('./training/*')\n",
    "#print(training_data_folder_path)\n",
    "print(training_data_folder_path_list[0][11:])"
   ]
  },
  {
   "cell_type": "code",
   "execution_count": null,
   "metadata": {
    "collapsed": true
   },
   "outputs": [],
   "source": [
    "disp_path_eth_list= glob.glob('./InitialResults/training_res_ETHfinetune/*')\n",
    "disp_path_eth_list.sort()\n",
    "print(disp_path_eth_list[0])\n",
    "\n",
    "disp_path_kitti_list= glob.glob('./InitialResults/training_res_Kittifinetune/*')\n",
    "disp_path_kitti_list.sort()\n",
    "print(disp_path_kitti_list[0])\n",
    "\n",
    "\n",
    "disp_path_mixed_list= glob.glob('./InitialResults/training_res_mixedfinetune/*')\n",
    "disp_path_mixed_list.sort()\n",
    "print(disp_path_mixed_list[0])\n"
   ]
  },
  {
   "cell_type": "code",
   "execution_count": null,
   "metadata": {
    "collapsed": true
   },
   "outputs": [],
   "source": [
    "for j in range(len(training_data_folder_path_list)):\n",
    "    print(training_data_folder_path_list[j])\n",
    "    count = 0 \n",
    "    for i in range(len(disp_path_eth_list)):\n",
    "        if training_data_folder_path_list[j][11:] in disp_path_eth_list[i]:\n",
    "            #print(disp_path_eth_list[i])\n",
    "            tmp_disp_eth = plt.imread(disp_path_eth_list[i])*255\n",
    "            #break\n",
    "            count +=1\n",
    "        if training_data_folder_path_list[j][11:] in disp_path_kitti_list[i]:\n",
    "            #print(disp_path_kitti_list[i])\n",
    "            tmp_disp_kitti = plt.imread(disp_path_kitti_list[i])*255\n",
    "            count +=1\n",
    "            #print(count)\n",
    "        if training_data_folder_path_list[j][11:] in disp_path_mixed_list[i]:\n",
    "            #print(disp_path_mixed_list[i])\n",
    "            tmp_disp_mixed = plt.imread(disp_path_mixed_list[i])*255\n",
    "            count +=1\n",
    "            #print(count)            \n",
    "            \n",
    "\n",
    "    if count <3:\n",
    "        print(count)\n",
    "        print(training_data_folder_path_list[j][11:])\n",
    "        if count ==1:\n",
    "            break\n",
    "    else:\n",
    "        #continue\n",
    "        tmp_ground_true,_ = readPFM(training_data_folder_path_list[j]+'/disp0GT.pfm')\n",
    "        left_image = plt.imread(training_data_folder_path_list[j]+'/im0.png')\n",
    "        print(training_data_folder_path_list[j])\n",
    "        \n",
    "    #break"
   ]
  },
  {
   "cell_type": "code",
   "execution_count": null,
   "metadata": {
    "collapsed": true
   },
   "outputs": [],
   "source": [
    "plt.imshow(tmp_ground_true)"
   ]
  },
  {
   "cell_type": "code",
   "execution_count": null,
   "metadata": {
    "collapsed": true
   },
   "outputs": [],
   "source": [
    "plt.imshow(left_image)"
   ]
  },
  {
   "cell_type": "code",
   "execution_count": null,
   "metadata": {
    "collapsed": true
   },
   "outputs": [],
   "source": [
    "print(\"ETH3d\")\n",
    "print(sum(sum((tmp_disp_eth*(tmp_ground_true>0)-tmp_ground_true)>3))/sum(sum(tmp_ground_true>0)))\n",
    "print(\"Kitti\")\n",
    "print(sum(sum((tmp_disp_kitti*(tmp_ground_true>0)-tmp_ground_true)>3))/sum(sum(tmp_ground_true>0)))\n",
    "print(\"Mixed\")\n",
    "print(sum(sum((tmp_disp_mixed*(tmp_ground_true>0)-tmp_ground_true)>3))/sum(sum(tmp_ground_true>0)))"
   ]
  },
  {
   "cell_type": "code",
   "execution_count": null,
   "metadata": {
    "collapsed": true
   },
   "outputs": [],
   "source": [
    "print(tmp_disp_kitti.shape)\n",
    "#combine = np.dstack((tmp_disp_kitti,tmp_disp_eth,tmp_disp_mixed,left_image))\n",
    "combine = np.dstack((tmp_disp_kitti,tmp_disp_eth,tmp_disp_mixed))\n",
    "print(combine.shape)"
   ]
  },
  {
   "cell_type": "code",
   "execution_count": null,
   "metadata": {
    "collapsed": true
   },
   "outputs": [],
   "source": [
    "print(np.amax(combine))"
   ]
  },
  {
   "cell_type": "code",
   "execution_count": null,
   "metadata": {
    "collapsed": true
   },
   "outputs": [],
   "source": [
    "plt.imshow(combine[:,:,:]/255)"
   ]
  },
  {
   "cell_type": "code",
   "execution_count": null,
   "metadata": {
    "collapsed": true
   },
   "outputs": [],
   "source": [
    "plt.imshow(combine[:,:,3:])"
   ]
  },
  {
   "cell_type": "code",
   "execution_count": null,
   "metadata": {
    "collapsed": true
   },
   "outputs": [],
   "source": [
    "plt.imshow(tmp_ground_true)"
   ]
  },
  {
   "cell_type": "code",
   "execution_count": null,
   "metadata": {
    "collapsed": true
   },
   "outputs": [],
   "source": [
    "plt.imshow(tmp_disp_kitti)"
   ]
  },
  {
   "cell_type": "code",
   "execution_count": null,
   "metadata": {
    "collapsed": true
   },
   "outputs": [],
   "source": [
    "plt.imshow(tmp_disp_eth)"
   ]
  },
  {
   "cell_type": "code",
   "execution_count": null,
   "metadata": {
    "collapsed": true
   },
   "outputs": [],
   "source": [
    "plt.imshow(tmp_disp_mixed)"
   ]
  },
  {
   "cell_type": "code",
   "execution_count": null,
   "metadata": {
    "collapsed": true
   },
   "outputs": [],
   "source": []
  },
  {
   "cell_type": "code",
   "execution_count": null,
   "metadata": {
    "collapsed": true
   },
   "outputs": [],
   "source": []
  },
  {
   "cell_type": "code",
   "execution_count": null,
   "metadata": {
    "collapsed": true
   },
   "outputs": [],
   "source": [
    "plt.imshow(tmp_disp_eth)"
   ]
  },
  {
   "cell_type": "code",
   "execution_count": null,
   "metadata": {
    "collapsed": true
   },
   "outputs": [],
   "source": [
    "plt.imshow(tmp_disp_kitti)"
   ]
  },
  {
   "cell_type": "code",
   "execution_count": null,
   "metadata": {
    "collapsed": true
   },
   "outputs": [],
   "source": [
    "d1 = plt.imread('./depth_estimation/finetune_ETH/augmented_Kitti2015_000068_10_im0.png')*255\n",
    "plt.imshow(d1)"
   ]
  },
  {
   "cell_type": "code",
   "execution_count": null,
   "metadata": {
    "collapsed": true
   },
   "outputs": [],
   "source": [
    "print(np.amax(d1))"
   ]
  },
  {
   "cell_type": "code",
   "execution_count": null,
   "metadata": {
    "collapsed": true
   },
   "outputs": [],
   "source": []
  },
  {
   "cell_type": "code",
   "execution_count": null,
   "metadata": {
    "collapsed": true
   },
   "outputs": [],
   "source": []
  },
  {
   "cell_type": "code",
   "execution_count": null,
   "metadata": {
    "collapsed": true
   },
   "outputs": [],
   "source": []
  },
  {
   "cell_type": "code",
   "execution_count": null,
   "metadata": {
    "collapsed": true
   },
   "outputs": [],
   "source": []
  }
 ],
 "metadata": {
  "kernelspec": {
   "display_name": "python3.5",
   "language": "python",
   "name": "python3.5"
  },
  "language_info": {
   "codemirror_mode": {
    "name": "ipython",
    "version": 3
   },
   "file_extension": ".py",
   "mimetype": "text/x-python",
   "name": "python",
   "nbconvert_exporter": "python",
   "pygments_lexer": "ipython3",
   "version": "3.5.5"
  }
 },
 "nbformat": 4,
 "nbformat_minor": 2
}
